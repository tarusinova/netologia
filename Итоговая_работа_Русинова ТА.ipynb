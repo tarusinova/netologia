{
 "cells": [
  {
   "cell_type": "markdown",
   "metadata": {
    "id": "Q8DsuG3nrJfy"
   },
   "source": [
    "<br>\n",
    "\n",
    "### Итоговая работа\n",
    "\n",
    "<br>"
   ]
  },
  {
   "cell_type": "code",
   "execution_count": 1,
   "metadata": {
    "id": "yIkIrI0prJf2"
   },
   "outputs": [],
   "source": [
    "import warnings\n",
    "# Отключение предупреждений (warnings)\n",
    "warnings.filterwarnings(\"ignore\")\n",
    "\n",
    "import pandas as pd\n",
    "from scipy import stats\n",
    "import numpy as np\n",
    "import matplotlib.pyplot as plt\n",
    "import math\n",
    "\n",
    "import sklearn\n",
    "from sklearn.model_selection import train_test_split"
   ]
  },
  {
   "cell_type": "markdown",
   "metadata": {
    "id": "Sy0C_WqErJf4"
   },
   "source": [
    "<br>\n",
    "\n",
    "#### 1. Загрузите файл HR.csv в pandas dataframe\n",
    "\n",
    "<br>"
   ]
  },
  {
   "cell_type": "code",
   "execution_count": 2,
   "metadata": {
    "id": "buPsrgXxrJf4"
   },
   "outputs": [],
   "source": [
    "df = pd.read_csv(r'C:\\Users\\operator\\Documents\\python\\HR.csv')\n",
    "df.columns = df.columns.str.replace(' ', '_').str.lower()"
   ]
  },
  {
   "cell_type": "code",
   "execution_count": 3,
   "metadata": {
    "colab": {
     "base_uri": "https://localhost:8080/",
     "height": 424
    },
    "id": "_q8cXpAbrJf5",
    "outputId": "969eb519-a31a-4527-f9d7-c1d4abd8447b"
   },
   "outputs": [
    {
     "data": {
      "text/html": [
       "<div>\n",
       "<style scoped>\n",
       "    .dataframe tbody tr th:only-of-type {\n",
       "        vertical-align: middle;\n",
       "    }\n",
       "\n",
       "    .dataframe tbody tr th {\n",
       "        vertical-align: top;\n",
       "    }\n",
       "\n",
       "    .dataframe thead th {\n",
       "        text-align: right;\n",
       "    }\n",
       "</style>\n",
       "<table border=\"1\" class=\"dataframe\">\n",
       "  <thead>\n",
       "    <tr style=\"text-align: right;\">\n",
       "      <th></th>\n",
       "      <th>satisfaction_level</th>\n",
       "      <th>last_evaluation</th>\n",
       "      <th>number_project</th>\n",
       "      <th>average_montly_hours</th>\n",
       "      <th>time_spend_company</th>\n",
       "      <th>work_accident</th>\n",
       "      <th>left</th>\n",
       "      <th>promotion_last_5years</th>\n",
       "      <th>department</th>\n",
       "      <th>salary</th>\n",
       "    </tr>\n",
       "  </thead>\n",
       "  <tbody>\n",
       "    <tr>\n",
       "      <th>0</th>\n",
       "      <td>0.38</td>\n",
       "      <td>0.53</td>\n",
       "      <td>2</td>\n",
       "      <td>157</td>\n",
       "      <td>3</td>\n",
       "      <td>0</td>\n",
       "      <td>1</td>\n",
       "      <td>0</td>\n",
       "      <td>sales</td>\n",
       "      <td>low</td>\n",
       "    </tr>\n",
       "    <tr>\n",
       "      <th>1</th>\n",
       "      <td>0.80</td>\n",
       "      <td>0.86</td>\n",
       "      <td>5</td>\n",
       "      <td>262</td>\n",
       "      <td>6</td>\n",
       "      <td>0</td>\n",
       "      <td>1</td>\n",
       "      <td>0</td>\n",
       "      <td>sales</td>\n",
       "      <td>medium</td>\n",
       "    </tr>\n",
       "    <tr>\n",
       "      <th>2</th>\n",
       "      <td>0.11</td>\n",
       "      <td>0.88</td>\n",
       "      <td>7</td>\n",
       "      <td>272</td>\n",
       "      <td>4</td>\n",
       "      <td>0</td>\n",
       "      <td>1</td>\n",
       "      <td>0</td>\n",
       "      <td>sales</td>\n",
       "      <td>medium</td>\n",
       "    </tr>\n",
       "    <tr>\n",
       "      <th>3</th>\n",
       "      <td>0.72</td>\n",
       "      <td>0.87</td>\n",
       "      <td>5</td>\n",
       "      <td>223</td>\n",
       "      <td>5</td>\n",
       "      <td>0</td>\n",
       "      <td>1</td>\n",
       "      <td>0</td>\n",
       "      <td>sales</td>\n",
       "      <td>low</td>\n",
       "    </tr>\n",
       "    <tr>\n",
       "      <th>4</th>\n",
       "      <td>0.37</td>\n",
       "      <td>0.52</td>\n",
       "      <td>2</td>\n",
       "      <td>159</td>\n",
       "      <td>3</td>\n",
       "      <td>0</td>\n",
       "      <td>1</td>\n",
       "      <td>0</td>\n",
       "      <td>sales</td>\n",
       "      <td>low</td>\n",
       "    </tr>\n",
       "    <tr>\n",
       "      <th>...</th>\n",
       "      <td>...</td>\n",
       "      <td>...</td>\n",
       "      <td>...</td>\n",
       "      <td>...</td>\n",
       "      <td>...</td>\n",
       "      <td>...</td>\n",
       "      <td>...</td>\n",
       "      <td>...</td>\n",
       "      <td>...</td>\n",
       "      <td>...</td>\n",
       "    </tr>\n",
       "    <tr>\n",
       "      <th>14994</th>\n",
       "      <td>0.40</td>\n",
       "      <td>0.57</td>\n",
       "      <td>2</td>\n",
       "      <td>151</td>\n",
       "      <td>3</td>\n",
       "      <td>0</td>\n",
       "      <td>1</td>\n",
       "      <td>0</td>\n",
       "      <td>support</td>\n",
       "      <td>low</td>\n",
       "    </tr>\n",
       "    <tr>\n",
       "      <th>14995</th>\n",
       "      <td>0.37</td>\n",
       "      <td>0.48</td>\n",
       "      <td>2</td>\n",
       "      <td>160</td>\n",
       "      <td>3</td>\n",
       "      <td>0</td>\n",
       "      <td>1</td>\n",
       "      <td>0</td>\n",
       "      <td>support</td>\n",
       "      <td>low</td>\n",
       "    </tr>\n",
       "    <tr>\n",
       "      <th>14996</th>\n",
       "      <td>0.37</td>\n",
       "      <td>0.53</td>\n",
       "      <td>2</td>\n",
       "      <td>143</td>\n",
       "      <td>3</td>\n",
       "      <td>0</td>\n",
       "      <td>1</td>\n",
       "      <td>0</td>\n",
       "      <td>support</td>\n",
       "      <td>low</td>\n",
       "    </tr>\n",
       "    <tr>\n",
       "      <th>14997</th>\n",
       "      <td>0.11</td>\n",
       "      <td>0.96</td>\n",
       "      <td>6</td>\n",
       "      <td>280</td>\n",
       "      <td>4</td>\n",
       "      <td>0</td>\n",
       "      <td>1</td>\n",
       "      <td>0</td>\n",
       "      <td>support</td>\n",
       "      <td>low</td>\n",
       "    </tr>\n",
       "    <tr>\n",
       "      <th>14998</th>\n",
       "      <td>0.37</td>\n",
       "      <td>0.52</td>\n",
       "      <td>2</td>\n",
       "      <td>158</td>\n",
       "      <td>3</td>\n",
       "      <td>0</td>\n",
       "      <td>1</td>\n",
       "      <td>0</td>\n",
       "      <td>support</td>\n",
       "      <td>low</td>\n",
       "    </tr>\n",
       "  </tbody>\n",
       "</table>\n",
       "<p>14999 rows × 10 columns</p>\n",
       "</div>"
      ],
      "text/plain": [
       "       satisfaction_level  last_evaluation  number_project  \\\n",
       "0                    0.38             0.53               2   \n",
       "1                    0.80             0.86               5   \n",
       "2                    0.11             0.88               7   \n",
       "3                    0.72             0.87               5   \n",
       "4                    0.37             0.52               2   \n",
       "...                   ...              ...             ...   \n",
       "14994                0.40             0.57               2   \n",
       "14995                0.37             0.48               2   \n",
       "14996                0.37             0.53               2   \n",
       "14997                0.11             0.96               6   \n",
       "14998                0.37             0.52               2   \n",
       "\n",
       "       average_montly_hours  time_spend_company  work_accident  left  \\\n",
       "0                       157                   3              0     1   \n",
       "1                       262                   6              0     1   \n",
       "2                       272                   4              0     1   \n",
       "3                       223                   5              0     1   \n",
       "4                       159                   3              0     1   \n",
       "...                     ...                 ...            ...   ...   \n",
       "14994                   151                   3              0     1   \n",
       "14995                   160                   3              0     1   \n",
       "14996                   143                   3              0     1   \n",
       "14997                   280                   4              0     1   \n",
       "14998                   158                   3              0     1   \n",
       "\n",
       "       promotion_last_5years department  salary  \n",
       "0                          0      sales     low  \n",
       "1                          0      sales  medium  \n",
       "2                          0      sales  medium  \n",
       "3                          0      sales     low  \n",
       "4                          0      sales     low  \n",
       "...                      ...        ...     ...  \n",
       "14994                      0    support     low  \n",
       "14995                      0    support     low  \n",
       "14996                      0    support     low  \n",
       "14997                      0    support     low  \n",
       "14998                      0    support     low  \n",
       "\n",
       "[14999 rows x 10 columns]"
      ]
     },
     "execution_count": 3,
     "metadata": {},
     "output_type": "execute_result"
    }
   ],
   "source": [
    "df"
   ]
  },
  {
   "cell_type": "code",
   "execution_count": 4,
   "metadata": {
    "colab": {
     "base_uri": "https://localhost:8080/"
    },
    "id": "RLaUSYSzrJf6",
    "outputId": "7633db14-ead2-411c-99d2-6464e4dbe89e"
   },
   "outputs": [
    {
     "data": {
      "text/plain": [
       "Index(['satisfaction_level', 'last_evaluation', 'number_project',\n",
       "       'average_montly_hours', 'time_spend_company', 'work_accident', 'left',\n",
       "       'promotion_last_5years', 'department', 'salary'],\n",
       "      dtype='object')"
      ]
     },
     "execution_count": 4,
     "metadata": {},
     "output_type": "execute_result"
    }
   ],
   "source": [
    "df.columns"
   ]
  },
  {
   "cell_type": "markdown",
   "metadata": {
    "id": "G5KEj9N7rJf6"
   },
   "source": [
    "<br>\n",
    "\n",
    "#### 2. Рассчитайте основные статистики для переменных (среднее,медиана,мода,мин/макс,сред.отклонение)\n",
    "\n",
    "<br>"
   ]
  },
  {
   "cell_type": "code",
   "execution_count": 5,
   "metadata": {
    "id": "C9Xax5xArJf7"
   },
   "outputs": [],
   "source": [
    "col_type = {\n",
    "    'numerical' : [\n",
    "        'satisfaction_level',\n",
    "        'last_evaluation',\n",
    "        'number_project',\n",
    "        'average_montly_hours',\n",
    "        'time_spend_company'\n",
    "    ],\n",
    "    'categorical' : [\n",
    "        'work_accident',\n",
    "        'left',\n",
    "        'promotion_last_5years'\n",
    "    ],\n",
    "    'text' : [\n",
    "        'department',\n",
    "        'salary'\n",
    "    ]\n",
    "}"
   ]
  },
  {
   "cell_type": "code",
   "execution_count": 6,
   "metadata": {
    "colab": {
     "base_uri": "https://localhost:8080/",
     "height": 363
    },
    "id": "82NgMvmFrJf7",
    "outputId": "ec693097-d970-416f-b9f9-8a4379f02935"
   },
   "outputs": [
    {
     "data": {
      "text/html": [
       "<div>\n",
       "<style scoped>\n",
       "    .dataframe tbody tr th:only-of-type {\n",
       "        vertical-align: middle;\n",
       "    }\n",
       "\n",
       "    .dataframe tbody tr th {\n",
       "        vertical-align: top;\n",
       "    }\n",
       "\n",
       "    .dataframe thead th {\n",
       "        text-align: right;\n",
       "    }\n",
       "</style>\n",
       "<table border=\"1\" class=\"dataframe\">\n",
       "  <thead>\n",
       "    <tr style=\"text-align: right;\">\n",
       "      <th></th>\n",
       "      <th>satisfaction_level</th>\n",
       "      <th>last_evaluation</th>\n",
       "      <th>number_project</th>\n",
       "      <th>average_montly_hours</th>\n",
       "      <th>time_spend_company</th>\n",
       "    </tr>\n",
       "  </thead>\n",
       "  <tbody>\n",
       "    <tr>\n",
       "      <th>count</th>\n",
       "      <td>14999.00</td>\n",
       "      <td>14999.00</td>\n",
       "      <td>14999.00</td>\n",
       "      <td>14999.00</td>\n",
       "      <td>14999.00</td>\n",
       "    </tr>\n",
       "    <tr>\n",
       "      <th>mean</th>\n",
       "      <td>0.61</td>\n",
       "      <td>0.72</td>\n",
       "      <td>3.80</td>\n",
       "      <td>201.05</td>\n",
       "      <td>3.50</td>\n",
       "    </tr>\n",
       "    <tr>\n",
       "      <th>std</th>\n",
       "      <td>0.25</td>\n",
       "      <td>0.17</td>\n",
       "      <td>1.23</td>\n",
       "      <td>49.94</td>\n",
       "      <td>1.46</td>\n",
       "    </tr>\n",
       "    <tr>\n",
       "      <th>min</th>\n",
       "      <td>0.09</td>\n",
       "      <td>0.36</td>\n",
       "      <td>2.00</td>\n",
       "      <td>96.00</td>\n",
       "      <td>2.00</td>\n",
       "    </tr>\n",
       "    <tr>\n",
       "      <th>25%</th>\n",
       "      <td>0.44</td>\n",
       "      <td>0.56</td>\n",
       "      <td>3.00</td>\n",
       "      <td>156.00</td>\n",
       "      <td>3.00</td>\n",
       "    </tr>\n",
       "    <tr>\n",
       "      <th>50%</th>\n",
       "      <td>0.64</td>\n",
       "      <td>0.72</td>\n",
       "      <td>4.00</td>\n",
       "      <td>200.00</td>\n",
       "      <td>3.00</td>\n",
       "    </tr>\n",
       "    <tr>\n",
       "      <th>75%</th>\n",
       "      <td>0.82</td>\n",
       "      <td>0.87</td>\n",
       "      <td>5.00</td>\n",
       "      <td>245.00</td>\n",
       "      <td>4.00</td>\n",
       "    </tr>\n",
       "    <tr>\n",
       "      <th>max</th>\n",
       "      <td>1.00</td>\n",
       "      <td>1.00</td>\n",
       "      <td>7.00</td>\n",
       "      <td>310.00</td>\n",
       "      <td>10.00</td>\n",
       "    </tr>\n",
       "    <tr>\n",
       "      <th>median</th>\n",
       "      <td>0.64</td>\n",
       "      <td>0.72</td>\n",
       "      <td>4.00</td>\n",
       "      <td>200.00</td>\n",
       "      <td>3.00</td>\n",
       "    </tr>\n",
       "    <tr>\n",
       "      <th>mode</th>\n",
       "      <td>1.00</td>\n",
       "      <td>1.00</td>\n",
       "      <td>4.00</td>\n",
       "      <td>135.00</td>\n",
       "      <td>3.00</td>\n",
       "    </tr>\n",
       "  </tbody>\n",
       "</table>\n",
       "</div>"
      ],
      "text/plain": [
       "        satisfaction_level  last_evaluation  number_project  \\\n",
       "count             14999.00         14999.00        14999.00   \n",
       "mean                  0.61             0.72            3.80   \n",
       "std                   0.25             0.17            1.23   \n",
       "min                   0.09             0.36            2.00   \n",
       "25%                   0.44             0.56            3.00   \n",
       "50%                   0.64             0.72            4.00   \n",
       "75%                   0.82             0.87            5.00   \n",
       "max                   1.00             1.00            7.00   \n",
       "median                0.64             0.72            4.00   \n",
       "mode                  1.00             1.00            4.00   \n",
       "\n",
       "        average_montly_hours  time_spend_company  \n",
       "count               14999.00            14999.00  \n",
       "mean                  201.05                3.50  \n",
       "std                    49.94                1.46  \n",
       "min                    96.00                2.00  \n",
       "25%                   156.00                3.00  \n",
       "50%                   200.00                3.00  \n",
       "75%                   245.00                4.00  \n",
       "max                   310.00               10.00  \n",
       "median                200.00                3.00  \n",
       "mode                  135.00                3.00  "
      ]
     },
     "execution_count": 6,
     "metadata": {},
     "output_type": "execute_result"
    }
   ],
   "source": [
    "avg_dict = {}\n",
    "for col in col_type['numerical']:\n",
    "    #mean = round(df[col].mean(), 2)\n",
    "    median = round(df[col].median(), 2)\n",
    "    moda = df[col].round().mode().tolist()[0]\n",
    "    avg_dict[col] = [median, moda]\n",
    "df_avg = pd.DataFrame(avg_dict, index=['median', 'mode'])\n",
    "df_avg = pd.concat([df[col_type['numerical']].describe().round(2), df_avg])\n",
    "\n",
    "df_avg"
   ]
  },
  {
   "cell_type": "markdown",
   "metadata": {
    "id": "jaAHMvFXrJf8"
   },
   "source": [
    "<br>\n",
    "\n",
    "#### 3. Рассчитайте и визуализируйте корреляционную матрицу для количественных переменных. Определите две самые скоррелированные и две наименее скоррелированные переменные.\n",
    "\n",
    "<br>"
   ]
  },
  {
   "cell_type": "code",
   "execution_count": 7,
   "metadata": {
    "colab": {
     "base_uri": "https://localhost:8080/",
     "height": 206
    },
    "id": "wSh6fViJrJf8",
    "outputId": "7ca255a7-6c93-44cb-dcab-8ff3b662782b"
   },
   "outputs": [
    {
     "data": {
      "text/html": [
       "<style type=\"text/css\">\n",
       "#T_40a2b_row0_col0, #T_40a2b_row1_col1, #T_40a2b_row2_col2, #T_40a2b_row3_col3, #T_40a2b_row4_col4 {\n",
       "  background-color: #006837;\n",
       "  color: #f1f1f1;\n",
       "}\n",
       "#T_40a2b_row0_col1, #T_40a2b_row0_col2, #T_40a2b_row0_col3, #T_40a2b_row0_col4, #T_40a2b_row2_col0 {\n",
       "  background-color: #a50026;\n",
       "  color: #f1f1f1;\n",
       "}\n",
       "#T_40a2b_row1_col0 {\n",
       "  background-color: #f67a49;\n",
       "  color: #f1f1f1;\n",
       "}\n",
       "#T_40a2b_row1_col2, #T_40a2b_row2_col3 {\n",
       "  background-color: #feea9b;\n",
       "  color: #000000;\n",
       "}\n",
       "#T_40a2b_row1_col3 {\n",
       "  background-color: #fec877;\n",
       "  color: #000000;\n",
       "}\n",
       "#T_40a2b_row1_col4, #T_40a2b_row3_col4 {\n",
       "  background-color: #f57245;\n",
       "  color: #f1f1f1;\n",
       "}\n",
       "#T_40a2b_row2_col1, #T_40a2b_row2_col4 {\n",
       "  background-color: #fa9b58;\n",
       "  color: #000000;\n",
       "}\n",
       "#T_40a2b_row3_col0 {\n",
       "  background-color: #d83128;\n",
       "  color: #f1f1f1;\n",
       "}\n",
       "#T_40a2b_row3_col1 {\n",
       "  background-color: #f99355;\n",
       "  color: #000000;\n",
       "}\n",
       "#T_40a2b_row3_col2 {\n",
       "  background-color: #fffcba;\n",
       "  color: #000000;\n",
       "}\n",
       "#T_40a2b_row4_col0 {\n",
       "  background-color: #b50f26;\n",
       "  color: #f1f1f1;\n",
       "}\n",
       "#T_40a2b_row4_col1 {\n",
       "  background-color: #af0926;\n",
       "  color: #f1f1f1;\n",
       "}\n",
       "#T_40a2b_row4_col2 {\n",
       "  background-color: #fdad60;\n",
       "  color: #000000;\n",
       "}\n",
       "#T_40a2b_row4_col3 {\n",
       "  background-color: #e44c34;\n",
       "  color: #f1f1f1;\n",
       "}\n",
       "</style>\n",
       "<table id=\"T_40a2b\">\n",
       "  <thead>\n",
       "    <tr>\n",
       "      <th class=\"blank level0\" >&nbsp;</th>\n",
       "      <th id=\"T_40a2b_level0_col0\" class=\"col_heading level0 col0\" >satisfaction_level</th>\n",
       "      <th id=\"T_40a2b_level0_col1\" class=\"col_heading level0 col1\" >last_evaluation</th>\n",
       "      <th id=\"T_40a2b_level0_col2\" class=\"col_heading level0 col2\" >number_project</th>\n",
       "      <th id=\"T_40a2b_level0_col3\" class=\"col_heading level0 col3\" >average_montly_hours</th>\n",
       "      <th id=\"T_40a2b_level0_col4\" class=\"col_heading level0 col4\" >time_spend_company</th>\n",
       "    </tr>\n",
       "  </thead>\n",
       "  <tbody>\n",
       "    <tr>\n",
       "      <th id=\"T_40a2b_level0_row0\" class=\"row_heading level0 row0\" >satisfaction_level</th>\n",
       "      <td id=\"T_40a2b_row0_col0\" class=\"data row0 col0\" >1.000000</td>\n",
       "      <td id=\"T_40a2b_row0_col1\" class=\"data row0 col1\" >0.110000</td>\n",
       "      <td id=\"T_40a2b_row0_col2\" class=\"data row0 col2\" >-0.140000</td>\n",
       "      <td id=\"T_40a2b_row0_col3\" class=\"data row0 col3\" >-0.020000</td>\n",
       "      <td id=\"T_40a2b_row0_col4\" class=\"data row0 col4\" >-0.100000</td>\n",
       "    </tr>\n",
       "    <tr>\n",
       "      <th id=\"T_40a2b_level0_row1\" class=\"row_heading level0 row1\" >last_evaluation</th>\n",
       "      <td id=\"T_40a2b_row1_col0\" class=\"data row1 col0\" >0.110000</td>\n",
       "      <td id=\"T_40a2b_row1_col1\" class=\"data row1 col1\" >1.000000</td>\n",
       "      <td id=\"T_40a2b_row1_col2\" class=\"data row1 col2\" >0.350000</td>\n",
       "      <td id=\"T_40a2b_row1_col3\" class=\"data row1 col3\" >0.340000</td>\n",
       "      <td id=\"T_40a2b_row1_col4\" class=\"data row1 col4\" >0.130000</td>\n",
       "    </tr>\n",
       "    <tr>\n",
       "      <th id=\"T_40a2b_level0_row2\" class=\"row_heading level0 row2\" >number_project</th>\n",
       "      <td id=\"T_40a2b_row2_col0\" class=\"data row2 col0\" >-0.140000</td>\n",
       "      <td id=\"T_40a2b_row2_col1\" class=\"data row2 col1\" >0.350000</td>\n",
       "      <td id=\"T_40a2b_row2_col2\" class=\"data row2 col2\" >1.000000</td>\n",
       "      <td id=\"T_40a2b_row2_col3\" class=\"data row2 col3\" >0.420000</td>\n",
       "      <td id=\"T_40a2b_row2_col4\" class=\"data row2 col4\" >0.200000</td>\n",
       "    </tr>\n",
       "    <tr>\n",
       "      <th id=\"T_40a2b_level0_row3\" class=\"row_heading level0 row3\" >average_montly_hours</th>\n",
       "      <td id=\"T_40a2b_row3_col0\" class=\"data row3 col0\" >-0.020000</td>\n",
       "      <td id=\"T_40a2b_row3_col1\" class=\"data row3 col1\" >0.340000</td>\n",
       "      <td id=\"T_40a2b_row3_col2\" class=\"data row3 col2\" >0.420000</td>\n",
       "      <td id=\"T_40a2b_row3_col3\" class=\"data row3 col3\" >1.000000</td>\n",
       "      <td id=\"T_40a2b_row3_col4\" class=\"data row3 col4\" >0.130000</td>\n",
       "    </tr>\n",
       "    <tr>\n",
       "      <th id=\"T_40a2b_level0_row4\" class=\"row_heading level0 row4\" >time_spend_company</th>\n",
       "      <td id=\"T_40a2b_row4_col0\" class=\"data row4 col0\" >-0.100000</td>\n",
       "      <td id=\"T_40a2b_row4_col1\" class=\"data row4 col1\" >0.130000</td>\n",
       "      <td id=\"T_40a2b_row4_col2\" class=\"data row4 col2\" >0.200000</td>\n",
       "      <td id=\"T_40a2b_row4_col3\" class=\"data row4 col3\" >0.130000</td>\n",
       "      <td id=\"T_40a2b_row4_col4\" class=\"data row4 col4\" >1.000000</td>\n",
       "    </tr>\n",
       "  </tbody>\n",
       "</table>\n"
      ],
      "text/plain": [
       "<pandas.io.formats.style.Styler at 0x1bf481ca210>"
      ]
     },
     "execution_count": 7,
     "metadata": {},
     "output_type": "execute_result"
    }
   ],
   "source": [
    "corr = df[col_type['numerical']].corr().round(2)\n",
    "corr.round(2).style.background_gradient(cmap='RdYlGn')"
   ]
  },
  {
   "cell_type": "code",
   "execution_count": 8,
   "metadata": {
    "colab": {
     "base_uri": "https://localhost:8080/",
     "height": 206
    },
    "id": "ZpZmcXB8rJf8",
    "outputId": "b51f7a62-0609-44bd-9f3d-19dfb6dfbc47"
   },
   "outputs": [
    {
     "data": {
      "text/html": [
       "<div>\n",
       "<style scoped>\n",
       "    .dataframe tbody tr th:only-of-type {\n",
       "        vertical-align: middle;\n",
       "    }\n",
       "\n",
       "    .dataframe tbody tr th {\n",
       "        vertical-align: top;\n",
       "    }\n",
       "\n",
       "    .dataframe thead th {\n",
       "        text-align: right;\n",
       "    }\n",
       "</style>\n",
       "<table border=\"1\" class=\"dataframe\">\n",
       "  <thead>\n",
       "    <tr style=\"text-align: right;\">\n",
       "      <th></th>\n",
       "      <th>satisfaction_level</th>\n",
       "      <th>last_evaluation</th>\n",
       "      <th>number_project</th>\n",
       "      <th>average_montly_hours</th>\n",
       "      <th>time_spend_company</th>\n",
       "    </tr>\n",
       "  </thead>\n",
       "  <tbody>\n",
       "    <tr>\n",
       "      <th>satisfaction_level</th>\n",
       "      <td>1.00</td>\n",
       "      <td>0.11</td>\n",
       "      <td>-0.14</td>\n",
       "      <td>-0.02</td>\n",
       "      <td>-0.10</td>\n",
       "    </tr>\n",
       "    <tr>\n",
       "      <th>last_evaluation</th>\n",
       "      <td>0.11</td>\n",
       "      <td>1.00</td>\n",
       "      <td>0.35</td>\n",
       "      <td>0.34</td>\n",
       "      <td>0.13</td>\n",
       "    </tr>\n",
       "    <tr>\n",
       "      <th>number_project</th>\n",
       "      <td>-0.14</td>\n",
       "      <td>0.35</td>\n",
       "      <td>1.00</td>\n",
       "      <td>0.42</td>\n",
       "      <td>0.20</td>\n",
       "    </tr>\n",
       "    <tr>\n",
       "      <th>average_montly_hours</th>\n",
       "      <td>-0.02</td>\n",
       "      <td>0.34</td>\n",
       "      <td>0.42</td>\n",
       "      <td>1.00</td>\n",
       "      <td>0.13</td>\n",
       "    </tr>\n",
       "    <tr>\n",
       "      <th>time_spend_company</th>\n",
       "      <td>-0.10</td>\n",
       "      <td>0.13</td>\n",
       "      <td>0.20</td>\n",
       "      <td>0.13</td>\n",
       "      <td>1.00</td>\n",
       "    </tr>\n",
       "  </tbody>\n",
       "</table>\n",
       "</div>"
      ],
      "text/plain": [
       "                      satisfaction_level  last_evaluation  number_project  \\\n",
       "satisfaction_level                  1.00             0.11           -0.14   \n",
       "last_evaluation                     0.11             1.00            0.35   \n",
       "number_project                     -0.14             0.35            1.00   \n",
       "average_montly_hours               -0.02             0.34            0.42   \n",
       "time_spend_company                 -0.10             0.13            0.20   \n",
       "\n",
       "                      average_montly_hours  time_spend_company  \n",
       "satisfaction_level                   -0.02               -0.10  \n",
       "last_evaluation                       0.34                0.13  \n",
       "number_project                        0.42                0.20  \n",
       "average_montly_hours                  1.00                0.13  \n",
       "time_spend_company                    0.13                1.00  "
      ]
     },
     "execution_count": 8,
     "metadata": {},
     "output_type": "execute_result"
    }
   ],
   "source": [
    "corr"
   ]
  },
  {
   "cell_type": "code",
   "execution_count": 9,
   "metadata": {
    "colab": {
     "base_uri": "https://localhost:8080/"
    },
    "id": "vuosNuzlrJf9",
    "outputId": "61411336-7207-4b1f-e440-cd6451c19a02"
   },
   "outputs": [
    {
     "data": {
      "text/plain": [
       "('satisfaction_level', 'average_montly_hours')"
      ]
     },
     "execution_count": 9,
     "metadata": {},
     "output_type": "execute_result"
    }
   ],
   "source": [
    "# Наибольшая корреляция наблюдается у этих двух переменных :\n",
    "'number_project', 'average_montly_hours'\n",
    "\n",
    "# Наименьшая корреляция наблюдается у этих двух переменных :\n",
    "'satisfaction_level', 'average_montly_hours'"
   ]
  },
  {
   "cell_type": "markdown",
   "metadata": {
    "id": "go2ivxR6rJf9"
   },
   "source": [
    "<br>\n",
    "\n",
    "#### 4. Рассчитайте сколько сотрудников работает в каждом департаменте.\n",
    "\n",
    "<br>"
   ]
  },
  {
   "cell_type": "code",
   "execution_count": 10,
   "metadata": {
    "colab": {
     "base_uri": "https://localhost:8080/",
     "height": 363
    },
    "id": "P7g47eMwrJf9",
    "outputId": "a2239120-9370-46ea-e78e-12a48b9cba64"
   },
   "outputs": [
    {
     "data": {
      "text/html": [
       "<div>\n",
       "<style scoped>\n",
       "    .dataframe tbody tr th:only-of-type {\n",
       "        vertical-align: middle;\n",
       "    }\n",
       "\n",
       "    .dataframe tbody tr th {\n",
       "        vertical-align: top;\n",
       "    }\n",
       "\n",
       "    .dataframe thead th {\n",
       "        text-align: right;\n",
       "    }\n",
       "</style>\n",
       "<table border=\"1\" class=\"dataframe\">\n",
       "  <thead>\n",
       "    <tr style=\"text-align: right;\">\n",
       "      <th></th>\n",
       "      <th>department</th>\n",
       "      <th>число_сотрудников</th>\n",
       "    </tr>\n",
       "  </thead>\n",
       "  <tbody>\n",
       "    <tr>\n",
       "      <th>0</th>\n",
       "      <td>IT</td>\n",
       "      <td>1227</td>\n",
       "    </tr>\n",
       "    <tr>\n",
       "      <th>1</th>\n",
       "      <td>RandD</td>\n",
       "      <td>787</td>\n",
       "    </tr>\n",
       "    <tr>\n",
       "      <th>2</th>\n",
       "      <td>accounting</td>\n",
       "      <td>767</td>\n",
       "    </tr>\n",
       "    <tr>\n",
       "      <th>3</th>\n",
       "      <td>hr</td>\n",
       "      <td>739</td>\n",
       "    </tr>\n",
       "    <tr>\n",
       "      <th>4</th>\n",
       "      <td>management</td>\n",
       "      <td>630</td>\n",
       "    </tr>\n",
       "    <tr>\n",
       "      <th>5</th>\n",
       "      <td>marketing</td>\n",
       "      <td>858</td>\n",
       "    </tr>\n",
       "    <tr>\n",
       "      <th>6</th>\n",
       "      <td>product_mng</td>\n",
       "      <td>902</td>\n",
       "    </tr>\n",
       "    <tr>\n",
       "      <th>7</th>\n",
       "      <td>sales</td>\n",
       "      <td>4140</td>\n",
       "    </tr>\n",
       "    <tr>\n",
       "      <th>8</th>\n",
       "      <td>support</td>\n",
       "      <td>2229</td>\n",
       "    </tr>\n",
       "    <tr>\n",
       "      <th>9</th>\n",
       "      <td>technical</td>\n",
       "      <td>2720</td>\n",
       "    </tr>\n",
       "  </tbody>\n",
       "</table>\n",
       "</div>"
      ],
      "text/plain": [
       "    department  число_сотрудников\n",
       "0           IT               1227\n",
       "1        RandD                787\n",
       "2   accounting                767\n",
       "3           hr                739\n",
       "4   management                630\n",
       "5    marketing                858\n",
       "6  product_mng                902\n",
       "7        sales               4140\n",
       "8      support               2229\n",
       "9    technical               2720"
      ]
     },
     "execution_count": 10,
     "metadata": {},
     "output_type": "execute_result"
    }
   ],
   "source": [
    "df.groupby(by=['department'], as_index=False) \\\n",
    ".agg({'satisfaction_level' : 'count'}) \\\n",
    ".rename(columns={'satisfaction_level' : 'число_сотрудников'})"
   ]
  },
  {
   "cell_type": "markdown",
   "metadata": {
    "id": "t9R1kRfqrJf-"
   },
   "source": [
    "<br>\n",
    "\n",
    "#### 5. Показать распределение сотрудников по зарплатам.\n",
    "\n",
    "<br>"
   ]
  },
  {
   "cell_type": "code",
   "execution_count": 11,
   "metadata": {
    "id": "k0J-efhcrJf-"
   },
   "outputs": [],
   "source": [
    "def draw_bar_chart(df, col_name):\n",
    "    fig, ax = plt.subplots(figsize=(10, 7.5))\n",
    "\n",
    "    df = pd.DataFrame(df[col_name] \\\n",
    "                      .value_counts() \\\n",
    "                      .reset_index() \\\n",
    "                      .rename(columns={'index' : col_name,\n",
    "                                       col_name : 'count'}))\n",
    "    x = df[col_name]\n",
    "    y = df['count']\n",
    "\n",
    "    ax.bar(x, y)\n",
    "\n",
    "    ax.set_ylabel(f'Кол-во человек')\n",
    "    ax.set_xlabel(f'Уровень зарплаты')\n",
    "    ax.set_title(f'Распределение числа сотрудников по уровню зарплаты')\n",
    "\n",
    "    xx = x.unique().tolist()\n",
    "    xx.sort()\n",
    "    for i in range(df.shape[0]):\n",
    "        plt.text(x[i], df.iloc[i, 1] + df['count'].max()*0.03, df.iloc[i, 1],\n",
    "                 horizontalalignment='center', verticalalignment='top')\n",
    "\n",
    "    plt.xticks(np.arange(len(xx)), xx)\n",
    "\n",
    "    plt.show()"
   ]
  },
  {
   "cell_type": "code",
   "execution_count": 12,
   "metadata": {
    "colab": {
     "base_uri": "https://localhost:8080/",
     "height": 680
    },
    "id": "Mv_YrXxZrJf-",
    "outputId": "25558571-1dad-45ed-8719-b0403b552cf7"
   },
   "outputs": [
    {
     "ename": "KeyError",
     "evalue": "'salary'",
     "output_type": "error",
     "traceback": [
      "\u001b[1;31m---------------------------------------------------------------------------\u001b[0m",
      "\u001b[1;31mKeyError\u001b[0m                                  Traceback (most recent call last)",
      "File \u001b[1;32mC:\\ProgramData\\anaconda3\\Lib\\site-packages\\pandas\\core\\indexes\\base.py:3791\u001b[0m, in \u001b[0;36mIndex.get_loc\u001b[1;34m(self, key)\u001b[0m\n\u001b[0;32m   3790\u001b[0m \u001b[38;5;28;01mtry\u001b[39;00m:\n\u001b[1;32m-> 3791\u001b[0m     \u001b[38;5;28;01mreturn\u001b[39;00m \u001b[38;5;28mself\u001b[39m\u001b[38;5;241m.\u001b[39m_engine\u001b[38;5;241m.\u001b[39mget_loc(casted_key)\n\u001b[0;32m   3792\u001b[0m \u001b[38;5;28;01mexcept\u001b[39;00m \u001b[38;5;167;01mKeyError\u001b[39;00m \u001b[38;5;28;01mas\u001b[39;00m err:\n",
      "File \u001b[1;32mindex.pyx:152\u001b[0m, in \u001b[0;36mpandas._libs.index.IndexEngine.get_loc\u001b[1;34m()\u001b[0m\n",
      "File \u001b[1;32mindex.pyx:176\u001b[0m, in \u001b[0;36mpandas._libs.index.IndexEngine.get_loc\u001b[1;34m()\u001b[0m\n",
      "File \u001b[1;32mindex.pyx:213\u001b[0m, in \u001b[0;36mpandas._libs.index.IndexEngine._get_loc_duplicates\u001b[1;34m()\u001b[0m\n",
      "\u001b[1;31mKeyError\u001b[0m: 'salary'",
      "\nThe above exception was the direct cause of the following exception:\n",
      "\u001b[1;31mKeyError\u001b[0m                                  Traceback (most recent call last)",
      "Cell \u001b[1;32mIn[12], line 1\u001b[0m\n\u001b[1;32m----> 1\u001b[0m draw_bar_chart(df\u001b[38;5;241m=\u001b[39mdf, col_name\u001b[38;5;241m=\u001b[39m\u001b[38;5;124m'\u001b[39m\u001b[38;5;124msalary\u001b[39m\u001b[38;5;124m'\u001b[39m)\n",
      "Cell \u001b[1;32mIn[11], line 9\u001b[0m, in \u001b[0;36mdraw_bar_chart\u001b[1;34m(df, col_name)\u001b[0m\n\u001b[0;32m      2\u001b[0m fig, ax \u001b[38;5;241m=\u001b[39m plt\u001b[38;5;241m.\u001b[39msubplots(figsize\u001b[38;5;241m=\u001b[39m(\u001b[38;5;241m10\u001b[39m, \u001b[38;5;241m7.5\u001b[39m))\n\u001b[0;32m      4\u001b[0m df \u001b[38;5;241m=\u001b[39m pd\u001b[38;5;241m.\u001b[39mDataFrame(df[col_name] \\\n\u001b[0;32m      5\u001b[0m                   \u001b[38;5;241m.\u001b[39mvalue_counts() \\\n\u001b[0;32m      6\u001b[0m                   \u001b[38;5;241m.\u001b[39mreset_index() \\\n\u001b[0;32m      7\u001b[0m                   \u001b[38;5;241m.\u001b[39mrename(columns\u001b[38;5;241m=\u001b[39m{\u001b[38;5;124m'\u001b[39m\u001b[38;5;124mindex\u001b[39m\u001b[38;5;124m'\u001b[39m : col_name,\n\u001b[0;32m      8\u001b[0m                                    col_name : \u001b[38;5;124m'\u001b[39m\u001b[38;5;124mcount\u001b[39m\u001b[38;5;124m'\u001b[39m}))\n\u001b[1;32m----> 9\u001b[0m x \u001b[38;5;241m=\u001b[39m df[col_name]\n\u001b[0;32m     10\u001b[0m y \u001b[38;5;241m=\u001b[39m df[\u001b[38;5;124m'\u001b[39m\u001b[38;5;124mcount\u001b[39m\u001b[38;5;124m'\u001b[39m]\n\u001b[0;32m     12\u001b[0m ax\u001b[38;5;241m.\u001b[39mbar(x, y)\n",
      "File \u001b[1;32mC:\\ProgramData\\anaconda3\\Lib\\site-packages\\pandas\\core\\frame.py:3893\u001b[0m, in \u001b[0;36mDataFrame.__getitem__\u001b[1;34m(self, key)\u001b[0m\n\u001b[0;32m   3891\u001b[0m \u001b[38;5;28;01mif\u001b[39;00m \u001b[38;5;28mself\u001b[39m\u001b[38;5;241m.\u001b[39mcolumns\u001b[38;5;241m.\u001b[39mnlevels \u001b[38;5;241m>\u001b[39m \u001b[38;5;241m1\u001b[39m:\n\u001b[0;32m   3892\u001b[0m     \u001b[38;5;28;01mreturn\u001b[39;00m \u001b[38;5;28mself\u001b[39m\u001b[38;5;241m.\u001b[39m_getitem_multilevel(key)\n\u001b[1;32m-> 3893\u001b[0m indexer \u001b[38;5;241m=\u001b[39m \u001b[38;5;28mself\u001b[39m\u001b[38;5;241m.\u001b[39mcolumns\u001b[38;5;241m.\u001b[39mget_loc(key)\n\u001b[0;32m   3894\u001b[0m \u001b[38;5;28;01mif\u001b[39;00m is_integer(indexer):\n\u001b[0;32m   3895\u001b[0m     indexer \u001b[38;5;241m=\u001b[39m [indexer]\n",
      "File \u001b[1;32mC:\\ProgramData\\anaconda3\\Lib\\site-packages\\pandas\\core\\indexes\\base.py:3798\u001b[0m, in \u001b[0;36mIndex.get_loc\u001b[1;34m(self, key)\u001b[0m\n\u001b[0;32m   3793\u001b[0m     \u001b[38;5;28;01mif\u001b[39;00m \u001b[38;5;28misinstance\u001b[39m(casted_key, \u001b[38;5;28mslice\u001b[39m) \u001b[38;5;129;01mor\u001b[39;00m (\n\u001b[0;32m   3794\u001b[0m         \u001b[38;5;28misinstance\u001b[39m(casted_key, abc\u001b[38;5;241m.\u001b[39mIterable)\n\u001b[0;32m   3795\u001b[0m         \u001b[38;5;129;01mand\u001b[39;00m \u001b[38;5;28many\u001b[39m(\u001b[38;5;28misinstance\u001b[39m(x, \u001b[38;5;28mslice\u001b[39m) \u001b[38;5;28;01mfor\u001b[39;00m x \u001b[38;5;129;01min\u001b[39;00m casted_key)\n\u001b[0;32m   3796\u001b[0m     ):\n\u001b[0;32m   3797\u001b[0m         \u001b[38;5;28;01mraise\u001b[39;00m InvalidIndexError(key)\n\u001b[1;32m-> 3798\u001b[0m     \u001b[38;5;28;01mraise\u001b[39;00m \u001b[38;5;167;01mKeyError\u001b[39;00m(key) \u001b[38;5;28;01mfrom\u001b[39;00m \u001b[38;5;21;01merr\u001b[39;00m\n\u001b[0;32m   3799\u001b[0m \u001b[38;5;28;01mexcept\u001b[39;00m \u001b[38;5;167;01mTypeError\u001b[39;00m:\n\u001b[0;32m   3800\u001b[0m     \u001b[38;5;66;03m# If we have a listlike key, _check_indexing_error will raise\u001b[39;00m\n\u001b[0;32m   3801\u001b[0m     \u001b[38;5;66;03m#  InvalidIndexError. Otherwise we fall through and re-raise\u001b[39;00m\n\u001b[0;32m   3802\u001b[0m     \u001b[38;5;66;03m#  the TypeError.\u001b[39;00m\n\u001b[0;32m   3803\u001b[0m     \u001b[38;5;28mself\u001b[39m\u001b[38;5;241m.\u001b[39m_check_indexing_error(key)\n",
      "\u001b[1;31mKeyError\u001b[0m: 'salary'"
     ]
    },
    {
     "data": {
      "image/png": "[encoded data removed]",
      "text/plain": [
       "<Figure size 1000x750 with 1 Axes>"
      ]
     },
     "metadata": {},
     "output_type": "display_data"
    }
   ],
   "source": [
    "draw_bar_chart(df=df, col_name='salary')"
   ]
  },
  {
   "cell_type": "markdown",
   "metadata": {
    "id": "fgenvXvTrJf-"
   },
   "source": [
    "<br>\n",
    "\n",
    "#### 6. Показать распределение сотрудников по зарплатам в каждом департаменте по отдельности.\n",
    "\n",
    "<br>"
   ]
  },
  {
   "cell_type": "code",
   "execution_count": 13,
   "metadata": {
    "id": "rmH03-BSrJf-"
   },
   "outputs": [],
   "source": [
    "def draw_compare_bar(feature_target, categories, targets):\n",
    "\n",
    "    size = len(targets)+1\n",
    "\n",
    "    x = np.arange(len(categories))  # the label locations\n",
    "    width = 1/size  # the width of the bars\n",
    "    multiplier = 0\n",
    "\n",
    "    fig, ax = plt.subplots(figsize=(12, 8))\n",
    "\n",
    "    for ft, target in feature_target.items():\n",
    "        offset = width * multiplier\n",
    "        plt.bar(x+offset, target, width, label=ft)\n",
    "        #ax.bar_label(rects, padding=3)\n",
    "        multiplier += 1\n",
    "\n",
    "    # Add some text for labels, title and custom x-axis tick labels, etc.\n",
    "    ax.set_ylabel('Кол-во человек')\n",
    "    ax.set_xlabel('Департамент')\n",
    "    ax.set_title(f'Распределение по уровню зарплат в разрезе департаментов')\n",
    "    ax.legend(loc='upper left', title='Уровень зарплаты')\n",
    "\n",
    "    max_list = list(feature_target.values())\n",
    "    temp_list = max_list[0]\n",
    "    for i in range(len(max_list) - 1):\n",
    "        temp_list += max_list[i+1]\n",
    "    max_val = max(temp_list) * 1.25\n",
    "\n",
    "    ax.set_ylim(0, max_val)\n",
    "\n",
    "    #ax.set_xticks(x + (size-2)/(2*size), categories)\n",
    "    ax.set_xticks(ticks=(x + (size-2)/(2*size)), labels=categories)\n",
    "                  #, labels=categories)\n",
    "\n",
    "    plt.show()"
   ]
  },
  {
   "cell_type": "code",
   "execution_count": 14,
   "metadata": {
    "id": "opb2VMz4rJf_"
   },
   "outputs": [],
   "source": [
    "feature = 'department'\n",
    "target = 'salary'\n",
    "feat_values = df[feature].unique().tolist()\n",
    "targ_values = df[target].unique().tolist()\n",
    "\n",
    "avgs_dict = {}\n",
    "for x in targ_values:\n",
    "    salary_unique = df.loc[df[target] == x][feature].unique().tolist()\n",
    "    sal_list = []\n",
    "    for y in feat_values:\n",
    "        z = df.loc[(df[feature] == y) & (df[target] == x)].count()[0]\n",
    "        sal_list.append(z)\n",
    "    avgs_dict[x] = sal_list"
   ]
  },
  {
   "cell_type": "code",
   "execution_count": 15,
   "metadata": {
    "colab": {
     "base_uri": "https://localhost:8080/",
     "height": 718
    },
    "id": "0epwcbdkrJf_",
    "outputId": "9772f265-7c13-4365-9154-3decc8f9d69b"
   },
   "outputs": [
    {
     "data": {
      "image/png": "[encoded data removed]",
      "text/plain": [
       "<Figure size 1200x800 with 1 Axes>"
      ]
     },
     "metadata": {},
     "output_type": "display_data"
    }
   ],
   "source": [
    "draw_compare_bar(avgs_dict, feat_values, targ_values)"
   ]
  },
  {
   "cell_type": "markdown",
   "metadata": {
    "id": "x48zL3tcrJf_"
   },
   "source": [
    "<br>\n",
    "\n",
    "#### 7. Проверить гипотезу, что сотрудники с высоким окладом проводят на работе больше времени, чем сотрудники с низким окладом.\n",
    "\n",
    "<br>"
   ]
  },
  {
   "cell_type": "markdown",
   "metadata": {
    "id": "MY7KO8-ArJf_"
   },
   "source": [
    "Перед проверкой гипотезы для начала посмотрим на распределение среднего проведенного на работе времени\n",
    "в зависимости от оклада"
   ]
  },
  {
   "cell_type": "code",
   "execution_count": 16,
   "metadata": {
    "id": "0B3J3gJrrJf_"
   },
   "outputs": [],
   "source": [
    "high_df = df.loc[df['salary'] == 'high']['average_montly_hours']\n",
    "low_df = df.loc[df['salary'] == 'low']['average_montly_hours']"
   ]
  },
  {
   "cell_type": "code",
   "execution_count": 17,
   "metadata": {
    "id": "CMrpZleprJgA"
   },
   "outputs": [],
   "source": [
    "# Функция для построения Гистограмм (для числовых данных)\n",
    "\n",
    "def draw_hist(df, col_name, bins_num):\n",
    "    fig, ax = plt.subplots(figsize=(10, 7.5))\n",
    "\n",
    "    ax.hist(df.round(0), bins=bins_num)\n",
    "\n",
    "    ax.set_ylabel(f'Кол-во записей')\n",
    "    ax.set_xlabel(f'average_montly_hours')\n",
    "    ax.set_title(f'Распределение объема работников по часам работы для {col_name} уровня зп')\n",
    "    plt.tick_params(axis='x', rotation=30)\n",
    "    ax.grid(axis='y')\n",
    "\n",
    "    plt.show()"
   ]
  },
  {
   "cell_type": "code",
   "execution_count": 18,
   "metadata": {
    "id": "1Xj8XoK6rJgA"
   },
   "outputs": [],
   "source": [
    "# Используем тест Шапиро-Уилка для проверки распределения данных на нормальность\n",
    "# (и для наглядности также будем строить график):\n",
    "\n",
    "def check_normality(df, col_name, plot_graph=False, bins_num=50):\n",
    "\n",
    "    sighificance = 0.05\n",
    "    statistics, p_val = stats.shapiro(df)\n",
    "\n",
    "    if (p_val < sighificance):\n",
    "        print(\"Отклоняем нулевую гипотезу >> Данные распределены не нормально\\n\")\n",
    "    else:\n",
    "        print(\"Не отклоняем нулевую гипотезу >> Данные распределены нормально\\n\")\n",
    "\n",
    "    if (plot_graph):\n",
    "        draw_hist(df=df, col_name=col_name, bins_num=bins_num)"
   ]
  },
  {
   "cell_type": "code",
   "execution_count": 19,
   "metadata": {
    "colab": {
     "base_uri": "https://localhost:8080/",
     "height": 1000
    },
    "id": "Knrj2FeErJgA",
    "outputId": "d888162f-9416-40b9-d59d-4c3fa4db00d2"
   },
   "outputs": [
    {
     "name": "stdout",
     "output_type": "stream",
     "text": [
      "Распределение по времени, проведенному на работе для сотрудников с высокой зарплатой: \n",
      "Отклоняем нулевую гипотезу >> Данные распределены не нормально\n",
      "\n"
     ]
    },
    {
     "data": {
      "image/png": "[encoded data removed]",
      "text/plain": [
       "<Figure size 1000x750 with 1 Axes>"
      ]
     },
     "metadata": {},
     "output_type": "display_data"
    },
    {
     "name": "stdout",
     "output_type": "stream",
     "text": [
      "Распределение по времени, проведенному на работе для сотрудников с низкой зарплатой: \n",
      "Отклоняем нулевую гипотезу >> Данные распределены не нормально\n",
      "\n"
     ]
    },
    {
     "data": {
      "image/png": "[encoded data removed]",
      "text/plain": [
       "<Figure size 1000x750 with 1 Axes>"
      ]
     },
     "metadata": {},
     "output_type": "display_data"
    }
   ],
   "source": [
    "print('Распределение по времени, проведенному на работе для сотрудников с высокой зарплатой: ')\n",
    "check_normality(df=high_df, col_name='high', plot_graph=True, bins_num=50)\n",
    "\n",
    "print('Распределение по времени, проведенному на работе для сотрудников с низкой зарплатой: ')\n",
    "check_normality(df=low_df, col_name='low', plot_graph=True, bins_num=50)"
   ]
  },
  {
   "cell_type": "code",
   "execution_count": 20,
   "metadata": {
    "colab": {
     "base_uri": "https://localhost:8080/"
    },
    "id": "90PkjN5vrJgA",
    "outputId": "143477b7-67b0-478f-dc63-bad6960283ba"
   },
   "outputs": [
    {
     "name": "stdout",
     "output_type": "stream",
     "text": [
      "Статистика = 8.240312901508515, p-value = 0.004097006889615195\n",
      "Дисперсии групп не равны\n"
     ]
    }
   ],
   "source": [
    "# С помощью теста Бартлетта сравним диспесии наших двух групп:\n",
    "\n",
    "statistics, p = stats.bartlett(high_df, low_df)\n",
    "alpha = 0.05\n",
    "\n",
    "print(f'Статистика = {statistics}, p-value = {p}')\n",
    "\n",
    "if p > alpha:\n",
    "    print('Дисперсии групп примерно равны')\n",
    "else:\n",
    "    print('Дисперсии групп не равны')"
   ]
  },
  {
   "cell_type": "markdown",
   "metadata": {
    "id": "c0ZYc6SirJgA"
   },
   "source": [
    "Поскольку данные в обоих выборках распределены не нормально, и дисперсси двух групп не равны, то для проверки гипотез воспользуемся тестом Крускала-Уоллиса.\n",
    "\n",
    "Условия применения теста Крускала-Уоллиса:\n",
    "1. Порядковая или непрерывная переменная отклика — переменная отклика должна быть порядковой или непрерывной переменной.\n",
    "\n",
    "    Это предположение выполняется\n",
    "\n",
    "2. Независимость – наблюдения в каждой группе должны быть независимыми друг от друга.\n",
    "\n",
    "    Это предположение выполняется.\n",
    "\n",
    "3. Распределения имеют сходную форму — распределения в каждой группе должны иметь одинаковую форму.\n",
    "\n",
    "    Судя по гистограммам выше, обе группы имеют похожую форму распределения значений. Это предположение выполняется."
   ]
  },
  {
   "cell_type": "code",
   "execution_count": 21,
   "metadata": {
    "colab": {
     "base_uri": "https://localhost:8080/"
    },
    "id": "jlB65FiBrJgB",
    "outputId": "145a99b9-15bc-4451-d365-91721bcd519a"
   },
   "outputs": [
    {
     "name": "stdout",
     "output_type": "stream",
     "text": [
      "Статистика = 0.04938995008074725, p-value = 0.8241282261403291\n",
      "Количество проведенных на работе часов не зависит от уровня зарплаты\n"
     ]
    }
   ],
   "source": [
    "# Тест Крускала-Уоллиса\n",
    "\n",
    "# H0 - разница между среднемесячным кол-вом часов, проведенных на работе, не отличается\n",
    "# для сотрудников с высокой и низкой зарплатой\n",
    "# H0 - разница между среднемесячным кол-вом часов, проведенных на работе, отличается\n",
    "# для сотрудников с высокой и низкой зарплатой\n",
    "\n",
    "statistics, p = stats.kruskal(high_df, low_df)\n",
    "alpha = 0.05\n",
    "\n",
    "print(f'Статистика = {statistics}, p-value = {p}')\n",
    "\n",
    "if p > alpha:\n",
    "    print('Количество проведенных на работе часов не зависит от уровня зарплаты')\n",
    "else:\n",
    "    print('Количество проведенных на работе часов зависит от уровня зарплаты')"
   ]
  },
  {
   "cell_type": "markdown",
   "metadata": {
    "id": "jARFQQ-WrJgB"
   },
   "source": [
    "Выводы:\n",
    "\n",
    "По итогу проверки гипотезы получили, что среднее количество часов, проведенных на работе за месяц, статистически значимо не различается между сотрудниками с высоким окладом и сотрудниками с низким окладом."
   ]
  },
  {
   "cell_type": "markdown",
   "metadata": {
    "id": "VGV39nQTrJgB"
   },
   "source": [
    "<br>\n",
    "\n",
    "#### 8. Рассчитать следующие показатели среди уволившихся и не уволившихся сотрудников (по отдельности):\n",
    "\n",
    "* Доля сотрудников с повышением за последние 5 лет\n",
    "* Средняя степень удовлетворенности\n",
    "* Среднее количество проектов\n",
    "\n",
    "<br>"
   ]
  },
  {
   "cell_type": "code",
   "execution_count": 22,
   "metadata": {
    "id": "m7ecgqHSrJgB"
   },
   "outputs": [],
   "source": [
    "left = df.loc[df['left'] == 1]\n",
    "stayed = df.loc[df['left'] == 0]"
   ]
  },
  {
   "cell_type": "code",
   "execution_count": 23,
   "metadata": {
    "colab": {
     "base_uri": "https://localhost:8080/"
    },
    "id": "zD72ty_WrJgC",
    "outputId": "01f1049f-f91d-4acd-dc1c-0e2d63166472"
   },
   "outputs": [
    {
     "name": "stdout",
     "output_type": "stream",
     "text": [
      "Уволившиеся сотрудники:\n",
      "Доля сотрудников с повышением за последние 5 лет : 0.53%\n",
      "Средняя степень удовлетворенности : 0.44\n",
      "Среднее количество проектов: 3.86\n",
      "--------------------------------------------------------\n",
      "\n",
      "Не уволившиеся сотрудники:\n",
      "Доля сотрудников с повышением за последние 5 лет : 2.63%\n",
      "Средняя степень удовлетворенности : 0.67\n",
      "Среднее количество проектов: 3.79\n",
      "--------------------------------------------------------\n",
      "\n"
     ]
    }
   ],
   "source": [
    "for series, kind in zip([left, stayed], ['Уволившиеся', 'Не уволившиеся']):\n",
    "    raised_perc = round(100 * series['promotion_last_5years'].sum()/series['promotion_last_5years'].count(), 2)\n",
    "    satisfaction = round(series['satisfaction_level'].mean(), 2)\n",
    "    projects = round(series['number_project'].mean(), 2)\n",
    "    print(f'{kind} сотрудники:')\n",
    "    print(f'Доля сотрудников с повышением за последние 5 лет : {raised_perc}%')\n",
    "    print(f'Средняя степень удовлетворенности : {satisfaction}')\n",
    "    print(f'Среднее количество проектов: {projects}')\n",
    "    print('--------------------------------------------------------\\n')"
   ]
  },
  {
   "cell_type": "markdown",
   "metadata": {
    "id": "j6dboFcFrJgC"
   },
   "source": [
    "<br>\n",
    "\n",
    "#### 9. Разделить данные на тестовую и обучающую выборки. Построить модель LDA, предсказывающую уволился ли сотрудник на основе имеющихся факторов (кроме department и salary). Оценить качество модели на тестовой выборке.\n",
    "\n",
    "<br>"
   ]
  },
  {
   "cell_type": "code",
   "execution_count": 24,
   "metadata": {
    "id": "xcfKukiFrJgC"
   },
   "outputs": [],
   "source": [
    "from sklearn.discriminant_analysis import LinearDiscriminantAnalysis\n",
    "from sklearn.metrics import accuracy_score, confusion_matrix, ConfusionMatrixDisplay\n",
    "from sklearn.metrics import f1_score, precision_score, recall_score\n",
    "from sklearn.model_selection import cross_val_score"
   ]
  },
  {
   "cell_type": "code",
   "execution_count": 25,
   "metadata": {
    "id": "Xjf74WnxrJgC"
   },
   "outputs": [],
   "source": [
    "# Приступим к построению модели линейной регрессии:\n",
    "\n",
    "X = df[['satisfaction_level',\n",
    "        'last_evaluation',\n",
    "        'number_project',\n",
    "        'average_montly_hours',\n",
    "        'time_spend_company',\n",
    "        'work_accident',\n",
    "        'promotion_last_5years']]\n",
    "y = df['left']\n",
    "\n",
    "X_train, X_test, y_train, y_test = train_test_split(X, y, test_size=0.25, random_state=42)\n",
    "\n",
    "model = LinearDiscriminantAnalysis()\n",
    "model.fit(X_train, y_train)\n",
    "\n",
    "y_pred = model.predict(X_test)"
   ]
  },
  {
   "cell_type": "code",
   "execution_count": 26,
   "metadata": {
    "colab": {
     "base_uri": "https://localhost:8080/"
    },
    "id": "ZlOs_GpLrJgG",
    "outputId": "71d377f5-5ac7-43a6-8c44-bb3122f664a5"
   },
   "outputs": [
    {
     "name": "stdout",
     "output_type": "stream",
     "text": [
      "Соотношения классов:\n",
      "left\n",
      "0    11428\n",
      "1     3571\n",
      "Name: count, dtype: int64\n",
      "\n",
      "Accuracy : 0.7536\n",
      "Precision : 0.4712\n",
      "Recall : 0.2464\n",
      "F1-score : 0.3236\n"
     ]
    }
   ],
   "source": [
    "# Посмотрим на метрику accuracy, хотя в данном случае она не будет полноценно репрезентативной\n",
    "# из-за дисбаланса классов\n",
    "\n",
    "print('Соотношения классов:')\n",
    "print(df['left'].value_counts())\n",
    "print('')\n",
    "print('Accuracy :', accuracy_score(y_test, y_pred))\n",
    "print('Precision :', round(precision_score(y_test, y_pred), 4))\n",
    "print('Recall :', round(recall_score(y_test, y_pred), 4))\n",
    "print('F1-score :', round(f1_score(y_test, y_pred), 4))"
   ]
  },
  {
   "cell_type": "code",
   "execution_count": 27,
   "metadata": {
    "colab": {
     "base_uri": "https://localhost:8080/",
     "height": 961
    },
    "id": "a1ih38JOrJgH",
    "outputId": "58086ee5-0995-46b9-b784-042709a41c22"
   },
   "outputs": [
    {
     "data": {
      "image/png": "[encoded data removed]",
      "text/plain": [
       "<Figure size 1200x1200 with 2 Axes>"
      ]
     },
     "metadata": {},
     "output_type": "display_data"
    }
   ],
   "source": [
    "# Посмотрим на confusion matrix:\n",
    "\n",
    "cm = confusion_matrix(y_test, y_pred)\n",
    "fig, ax = plt.subplots(figsize=(12, 12))\n",
    "disp = ConfusionMatrixDisplay(confusion_matrix=cm)\n",
    "disp.plot(ax=ax)\n",
    "plt.show()"
   ]
  }
 ],
 "metadata": {
  "colab": {
   "provenance": []
  },
  "kernelspec": {
   "display_name": "Python 3 (ipykernel)",
   "language": "python",
   "name": "python3"
  },
  "language_info": {
   "codemirror_mode": {
    "name": "ipython",
    "version": 3
   },
   "file_extension": ".py",
   "mimetype": "text/x-python",
   "name": "python",
   "nbconvert_exporter": "python",
   "pygments_lexer": "ipython3",
   "version": "3.11.7"
  }
 },
 "nbformat": 4,
 "nbformat_minor": 4
}

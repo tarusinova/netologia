{
 "cells": [
  {
   "cell_type": "code",
   "execution_count": 1,
   "id": "61b684ff",
   "metadata": {},
   "outputs": [],
   "source": [
    "import pandas as pd\n",
    "import numpy as np\n",
    "import matplotlib.pyplot as plt"
   ]
  },
  {
   "cell_type": "code",
   "execution_count": 2,
   "id": "95b3a68b",
   "metadata": {},
   "outputs": [],
   "source": [
    "# Задание 1\n",
    "\n",
    "df_need = pd.read_csv(r'https://raw.githubusercontent.com/obulygin/pyda_homeworks/master/statistics_basics/horse_data.csv', header=None)"
   ]
  },
  {
   "cell_type": "code",
   "execution_count": 3,
   "id": "9e38a9db",
   "metadata": {},
   "outputs": [],
   "source": [
    "dict_col = {1: 'операция', 2: 'Возраст', 3: 'Номер_больницы', 4: 'ректальная_температура', \n",
    "            5: 'пульс', 6: 'частота_дыхания', 7: 'температура_конечностей', 8: 'периферический_пульс', \n",
    "            9: 'слизистые_оболочки', 10: 'время_наполнения_капилляров', 11: 'боль', 12: 'перистальтика', \n",
    "            13: 'вздутие_живота', 14: 'назогастральный_зонд', 15: 'назогастральный_рефлюкс', \n",
    "            16: 'назогастральный_рефлюкс_ЛГ', 17: 'ректальное_исследование', 18: 'живот', \n",
    "            19: 'объем_упакованных_клеток', 20: 'общий_белок', 21: 'внешний_вид_абдоминоцентеза', \n",
    "            22: 'общий_белок_абдомоцентеза', 23: 'исход', 24: 'хирургическое_поражение', 25: 'тип_поражения_1', \n",
    "            26: 'тип_поражения_2', 27: 'тип_поражения_3', 28: 'cp_data'}"
   ]
  },
  {
   "cell_type": "code",
   "execution_count": 4,
   "id": "501c0d1e",
   "metadata": {},
   "outputs": [],
   "source": [
    "df_need.columns = dict_col.values()"
   ]
  },
  {
   "cell_type": "code",
   "execution_count": 5,
   "id": "577a6098",
   "metadata": {},
   "outputs": [],
   "source": [
    "#surgery?, Age, rectal temperature, pulse, respiratory rate, temperature of extremities, pain, outcome\n",
    "\n",
    "df = df_need[['операция', 'Возраст', 'ректальная_температура', 'пульс', \n",
    "              'частота_дыхания', 'температура_конечностей', 'боль', 'исход']].copy()"
   ]
  },
  {
   "cell_type": "code",
   "execution_count": 6,
   "id": "bb5bb29e",
   "metadata": {},
   "outputs": [
    {
     "data": {
      "text/html": [
       "<div>\n",
       "<style scoped>\n",
       "    .dataframe tbody tr th:only-of-type {\n",
       "        vertical-align: middle;\n",
       "    }\n",
       "\n",
       "    .dataframe tbody tr th {\n",
       "        vertical-align: top;\n",
       "    }\n",
       "\n",
       "    .dataframe thead th {\n",
       "        text-align: right;\n",
       "    }\n",
       "</style>\n",
       "<table border=\"1\" class=\"dataframe\">\n",
       "  <thead>\n",
       "    <tr style=\"text-align: right;\">\n",
       "      <th></th>\n",
       "      <th>операция</th>\n",
       "      <th>Возраст</th>\n",
       "      <th>ректальная_температура</th>\n",
       "      <th>пульс</th>\n",
       "      <th>частота_дыхания</th>\n",
       "      <th>температура_конечностей</th>\n",
       "      <th>боль</th>\n",
       "      <th>исход</th>\n",
       "    </tr>\n",
       "  </thead>\n",
       "  <tbody>\n",
       "    <tr>\n",
       "      <th>0</th>\n",
       "      <td>2</td>\n",
       "      <td>1</td>\n",
       "      <td>38.50</td>\n",
       "      <td>66</td>\n",
       "      <td>28</td>\n",
       "      <td>3</td>\n",
       "      <td>5</td>\n",
       "      <td>2</td>\n",
       "    </tr>\n",
       "    <tr>\n",
       "      <th>1</th>\n",
       "      <td>1</td>\n",
       "      <td>1</td>\n",
       "      <td>39.2</td>\n",
       "      <td>88</td>\n",
       "      <td>20</td>\n",
       "      <td>?</td>\n",
       "      <td>3</td>\n",
       "      <td>3</td>\n",
       "    </tr>\n",
       "    <tr>\n",
       "      <th>2</th>\n",
       "      <td>2</td>\n",
       "      <td>1</td>\n",
       "      <td>38.30</td>\n",
       "      <td>40</td>\n",
       "      <td>24</td>\n",
       "      <td>1</td>\n",
       "      <td>3</td>\n",
       "      <td>1</td>\n",
       "    </tr>\n",
       "    <tr>\n",
       "      <th>3</th>\n",
       "      <td>1</td>\n",
       "      <td>9</td>\n",
       "      <td>39.10</td>\n",
       "      <td>164</td>\n",
       "      <td>84</td>\n",
       "      <td>4</td>\n",
       "      <td>2</td>\n",
       "      <td>2</td>\n",
       "    </tr>\n",
       "    <tr>\n",
       "      <th>4</th>\n",
       "      <td>2</td>\n",
       "      <td>1</td>\n",
       "      <td>37.30</td>\n",
       "      <td>104</td>\n",
       "      <td>35</td>\n",
       "      <td>?</td>\n",
       "      <td>?</td>\n",
       "      <td>2</td>\n",
       "    </tr>\n",
       "    <tr>\n",
       "      <th>...</th>\n",
       "      <td>...</td>\n",
       "      <td>...</td>\n",
       "      <td>...</td>\n",
       "      <td>...</td>\n",
       "      <td>...</td>\n",
       "      <td>...</td>\n",
       "      <td>...</td>\n",
       "      <td>...</td>\n",
       "    </tr>\n",
       "    <tr>\n",
       "      <th>295</th>\n",
       "      <td>1</td>\n",
       "      <td>1</td>\n",
       "      <td>?</td>\n",
       "      <td>120</td>\n",
       "      <td>70</td>\n",
       "      <td>4</td>\n",
       "      <td>2</td>\n",
       "      <td>3</td>\n",
       "    </tr>\n",
       "    <tr>\n",
       "      <th>296</th>\n",
       "      <td>2</td>\n",
       "      <td>1</td>\n",
       "      <td>37.20</td>\n",
       "      <td>72</td>\n",
       "      <td>24</td>\n",
       "      <td>3</td>\n",
       "      <td>4</td>\n",
       "      <td>3</td>\n",
       "    </tr>\n",
       "    <tr>\n",
       "      <th>297</th>\n",
       "      <td>1</td>\n",
       "      <td>1</td>\n",
       "      <td>37.50</td>\n",
       "      <td>72</td>\n",
       "      <td>30</td>\n",
       "      <td>4</td>\n",
       "      <td>4</td>\n",
       "      <td>2</td>\n",
       "    </tr>\n",
       "    <tr>\n",
       "      <th>298</th>\n",
       "      <td>1</td>\n",
       "      <td>1</td>\n",
       "      <td>36.50</td>\n",
       "      <td>100</td>\n",
       "      <td>24</td>\n",
       "      <td>3</td>\n",
       "      <td>3</td>\n",
       "      <td>1</td>\n",
       "    </tr>\n",
       "    <tr>\n",
       "      <th>299</th>\n",
       "      <td>1</td>\n",
       "      <td>1</td>\n",
       "      <td>37.2</td>\n",
       "      <td>40</td>\n",
       "      <td>20</td>\n",
       "      <td>?</td>\n",
       "      <td>?</td>\n",
       "      <td>3</td>\n",
       "    </tr>\n",
       "  </tbody>\n",
       "</table>\n",
       "<p>300 rows × 8 columns</p>\n",
       "</div>"
      ],
      "text/plain": [
       "    операция  Возраст ректальная_температура пульс частота_дыхания  \\\n",
       "0          2        1                  38.50    66              28   \n",
       "1          1        1                   39.2    88              20   \n",
       "2          2        1                  38.30    40              24   \n",
       "3          1        9                  39.10   164              84   \n",
       "4          2        1                  37.30   104              35   \n",
       "..       ...      ...                    ...   ...             ...   \n",
       "295        1        1                      ?   120              70   \n",
       "296        2        1                  37.20    72              24   \n",
       "297        1        1                  37.50    72              30   \n",
       "298        1        1                  36.50   100              24   \n",
       "299        1        1                   37.2    40              20   \n",
       "\n",
       "    температура_конечностей боль исход  \n",
       "0                         3    5     2  \n",
       "1                         ?    3     3  \n",
       "2                         1    3     1  \n",
       "3                         4    2     2  \n",
       "4                         ?    ?     2  \n",
       "..                      ...  ...   ...  \n",
       "295                       4    2     3  \n",
       "296                       3    4     3  \n",
       "297                       4    4     2  \n",
       "298                       3    3     1  \n",
       "299                       ?    ?     3  \n",
       "\n",
       "[300 rows x 8 columns]"
      ]
     },
     "execution_count": 6,
     "metadata": {},
     "output_type": "execute_result"
    }
   ],
   "source": [
    "df"
   ]
  },
  {
   "cell_type": "code",
   "execution_count": 7,
   "id": "1f29f303",
   "metadata": {},
   "outputs": [],
   "source": [
    "# Задание 2"
   ]
  },
  {
   "cell_type": "code",
   "execution_count": 8,
   "id": "730d35ab",
   "metadata": {},
   "outputs": [
    {
     "data": {
      "text/plain": [
       "операция                   object\n",
       "Возраст                     int64\n",
       "ректальная_температура     object\n",
       "пульс                      object\n",
       "частота_дыхания            object\n",
       "температура_конечностей    object\n",
       "боль                       object\n",
       "исход                      object\n",
       "dtype: object"
      ]
     },
     "execution_count": 8,
     "metadata": {},
     "output_type": "execute_result"
    }
   ],
   "source": [
    "df.dtypes"
   ]
  },
  {
   "cell_type": "code",
   "execution_count": 9,
   "id": "e327f124",
   "metadata": {},
   "outputs": [
    {
     "name": "stderr",
     "output_type": "stream",
     "text": [
      "<ipython-input-9-4b573182e8ca>:3: FutureWarning: The default value of regex will change from True to False in a future version. In addition, single character regular expressions will*not* be treated as literal strings when regex=True.\n",
      "  df[col] = df[col].str.replace('?', '-9999')\n"
     ]
    }
   ],
   "source": [
    "for col in df.columns:\n",
    "    df[col] = df[col].astype('str') \n",
    "    df[col] = df[col].str.replace('?', '-9999') \n",
    "    df[col] = df[col].astype('float64')\n",
    "    "
   ]
  },
  {
   "cell_type": "code",
   "execution_count": 10,
   "id": "a24eb366",
   "metadata": {},
   "outputs": [],
   "source": [
    "df = df.replace(-9999, np.nan)"
   ]
  },
  {
   "cell_type": "code",
   "execution_count": 11,
   "id": "54824680",
   "metadata": {},
   "outputs": [
    {
     "data": {
      "text/html": [
       "<div>\n",
       "<style scoped>\n",
       "    .dataframe tbody tr th:only-of-type {\n",
       "        vertical-align: middle;\n",
       "    }\n",
       "\n",
       "    .dataframe tbody tr th {\n",
       "        vertical-align: top;\n",
       "    }\n",
       "\n",
       "    .dataframe thead th {\n",
       "        text-align: right;\n",
       "    }\n",
       "</style>\n",
       "<table border=\"1\" class=\"dataframe\">\n",
       "  <thead>\n",
       "    <tr style=\"text-align: right;\">\n",
       "      <th></th>\n",
       "      <th>операция</th>\n",
       "      <th>Возраст</th>\n",
       "      <th>ректальная_температура</th>\n",
       "      <th>пульс</th>\n",
       "      <th>частота_дыхания</th>\n",
       "      <th>температура_конечностей</th>\n",
       "      <th>боль</th>\n",
       "      <th>исход</th>\n",
       "    </tr>\n",
       "  </thead>\n",
       "  <tbody>\n",
       "    <tr>\n",
       "      <th>0</th>\n",
       "      <td>2.0</td>\n",
       "      <td>1.0</td>\n",
       "      <td>38.5</td>\n",
       "      <td>66.0</td>\n",
       "      <td>28.0</td>\n",
       "      <td>3.0</td>\n",
       "      <td>5.0</td>\n",
       "      <td>2.0</td>\n",
       "    </tr>\n",
       "    <tr>\n",
       "      <th>1</th>\n",
       "      <td>1.0</td>\n",
       "      <td>1.0</td>\n",
       "      <td>39.2</td>\n",
       "      <td>88.0</td>\n",
       "      <td>20.0</td>\n",
       "      <td>NaN</td>\n",
       "      <td>3.0</td>\n",
       "      <td>3.0</td>\n",
       "    </tr>\n",
       "    <tr>\n",
       "      <th>2</th>\n",
       "      <td>2.0</td>\n",
       "      <td>1.0</td>\n",
       "      <td>38.3</td>\n",
       "      <td>40.0</td>\n",
       "      <td>24.0</td>\n",
       "      <td>1.0</td>\n",
       "      <td>3.0</td>\n",
       "      <td>1.0</td>\n",
       "    </tr>\n",
       "    <tr>\n",
       "      <th>3</th>\n",
       "      <td>1.0</td>\n",
       "      <td>9.0</td>\n",
       "      <td>39.1</td>\n",
       "      <td>164.0</td>\n",
       "      <td>84.0</td>\n",
       "      <td>4.0</td>\n",
       "      <td>2.0</td>\n",
       "      <td>2.0</td>\n",
       "    </tr>\n",
       "    <tr>\n",
       "      <th>4</th>\n",
       "      <td>2.0</td>\n",
       "      <td>1.0</td>\n",
       "      <td>37.3</td>\n",
       "      <td>104.0</td>\n",
       "      <td>35.0</td>\n",
       "      <td>NaN</td>\n",
       "      <td>NaN</td>\n",
       "      <td>2.0</td>\n",
       "    </tr>\n",
       "    <tr>\n",
       "      <th>...</th>\n",
       "      <td>...</td>\n",
       "      <td>...</td>\n",
       "      <td>...</td>\n",
       "      <td>...</td>\n",
       "      <td>...</td>\n",
       "      <td>...</td>\n",
       "      <td>...</td>\n",
       "      <td>...</td>\n",
       "    </tr>\n",
       "    <tr>\n",
       "      <th>295</th>\n",
       "      <td>1.0</td>\n",
       "      <td>1.0</td>\n",
       "      <td>NaN</td>\n",
       "      <td>120.0</td>\n",
       "      <td>70.0</td>\n",
       "      <td>4.0</td>\n",
       "      <td>2.0</td>\n",
       "      <td>3.0</td>\n",
       "    </tr>\n",
       "    <tr>\n",
       "      <th>296</th>\n",
       "      <td>2.0</td>\n",
       "      <td>1.0</td>\n",
       "      <td>37.2</td>\n",
       "      <td>72.0</td>\n",
       "      <td>24.0</td>\n",
       "      <td>3.0</td>\n",
       "      <td>4.0</td>\n",
       "      <td>3.0</td>\n",
       "    </tr>\n",
       "    <tr>\n",
       "      <th>297</th>\n",
       "      <td>1.0</td>\n",
       "      <td>1.0</td>\n",
       "      <td>37.5</td>\n",
       "      <td>72.0</td>\n",
       "      <td>30.0</td>\n",
       "      <td>4.0</td>\n",
       "      <td>4.0</td>\n",
       "      <td>2.0</td>\n",
       "    </tr>\n",
       "    <tr>\n",
       "      <th>298</th>\n",
       "      <td>1.0</td>\n",
       "      <td>1.0</td>\n",
       "      <td>36.5</td>\n",
       "      <td>100.0</td>\n",
       "      <td>24.0</td>\n",
       "      <td>3.0</td>\n",
       "      <td>3.0</td>\n",
       "      <td>1.0</td>\n",
       "    </tr>\n",
       "    <tr>\n",
       "      <th>299</th>\n",
       "      <td>1.0</td>\n",
       "      <td>1.0</td>\n",
       "      <td>37.2</td>\n",
       "      <td>40.0</td>\n",
       "      <td>20.0</td>\n",
       "      <td>NaN</td>\n",
       "      <td>NaN</td>\n",
       "      <td>3.0</td>\n",
       "    </tr>\n",
       "  </tbody>\n",
       "</table>\n",
       "<p>300 rows × 8 columns</p>\n",
       "</div>"
      ],
      "text/plain": [
       "     операция  Возраст  ректальная_температура  пульс  частота_дыхания  \\\n",
       "0         2.0      1.0                    38.5   66.0             28.0   \n",
       "1         1.0      1.0                    39.2   88.0             20.0   \n",
       "2         2.0      1.0                    38.3   40.0             24.0   \n",
       "3         1.0      9.0                    39.1  164.0             84.0   \n",
       "4         2.0      1.0                    37.3  104.0             35.0   \n",
       "..        ...      ...                     ...    ...              ...   \n",
       "295       1.0      1.0                     NaN  120.0             70.0   \n",
       "296       2.0      1.0                    37.2   72.0             24.0   \n",
       "297       1.0      1.0                    37.5   72.0             30.0   \n",
       "298       1.0      1.0                    36.5  100.0             24.0   \n",
       "299       1.0      1.0                    37.2   40.0             20.0   \n",
       "\n",
       "     температура_конечностей  боль  исход  \n",
       "0                        3.0   5.0    2.0  \n",
       "1                        NaN   3.0    3.0  \n",
       "2                        1.0   3.0    1.0  \n",
       "3                        4.0   2.0    2.0  \n",
       "4                        NaN   NaN    2.0  \n",
       "..                       ...   ...    ...  \n",
       "295                      4.0   2.0    3.0  \n",
       "296                      3.0   4.0    3.0  \n",
       "297                      4.0   4.0    2.0  \n",
       "298                      3.0   3.0    1.0  \n",
       "299                      NaN   NaN    3.0  \n",
       "\n",
       "[300 rows x 8 columns]"
      ]
     },
     "execution_count": 11,
     "metadata": {},
     "output_type": "execute_result"
    }
   ],
   "source": [
    "df"
   ]
  },
  {
   "cell_type": "code",
   "execution_count": 12,
   "id": "1e95cf1b",
   "metadata": {},
   "outputs": [
    {
     "data": {
      "text/html": [
       "<div>\n",
       "<style scoped>\n",
       "    .dataframe tbody tr th:only-of-type {\n",
       "        vertical-align: middle;\n",
       "    }\n",
       "\n",
       "    .dataframe tbody tr th {\n",
       "        vertical-align: top;\n",
       "    }\n",
       "\n",
       "    .dataframe thead th {\n",
       "        text-align: right;\n",
       "    }\n",
       "</style>\n",
       "<table border=\"1\" class=\"dataframe\">\n",
       "  <thead>\n",
       "    <tr style=\"text-align: right;\">\n",
       "      <th></th>\n",
       "      <th>операция</th>\n",
       "      <th>Возраст</th>\n",
       "      <th>ректальная_температура</th>\n",
       "      <th>пульс</th>\n",
       "      <th>частота_дыхания</th>\n",
       "      <th>температура_конечностей</th>\n",
       "      <th>боль</th>\n",
       "      <th>исход</th>\n",
       "    </tr>\n",
       "  </thead>\n",
       "  <tbody>\n",
       "    <tr>\n",
       "      <th>count</th>\n",
       "      <td>299.000000</td>\n",
       "      <td>300.000000</td>\n",
       "      <td>240.000000</td>\n",
       "      <td>276.000000</td>\n",
       "      <td>242.000000</td>\n",
       "      <td>244.000000</td>\n",
       "      <td>245.00000</td>\n",
       "      <td>299.000000</td>\n",
       "    </tr>\n",
       "    <tr>\n",
       "      <th>mean</th>\n",
       "      <td>1.397993</td>\n",
       "      <td>1.640000</td>\n",
       "      <td>38.167917</td>\n",
       "      <td>71.913043</td>\n",
       "      <td>30.417355</td>\n",
       "      <td>2.348361</td>\n",
       "      <td>2.95102</td>\n",
       "      <td>1.551839</td>\n",
       "    </tr>\n",
       "    <tr>\n",
       "      <th>std</th>\n",
       "      <td>0.490305</td>\n",
       "      <td>2.173972</td>\n",
       "      <td>0.732289</td>\n",
       "      <td>28.630557</td>\n",
       "      <td>17.642231</td>\n",
       "      <td>1.045054</td>\n",
       "      <td>1.30794</td>\n",
       "      <td>0.737187</td>\n",
       "    </tr>\n",
       "    <tr>\n",
       "      <th>min</th>\n",
       "      <td>1.000000</td>\n",
       "      <td>1.000000</td>\n",
       "      <td>35.400000</td>\n",
       "      <td>30.000000</td>\n",
       "      <td>8.000000</td>\n",
       "      <td>1.000000</td>\n",
       "      <td>1.00000</td>\n",
       "      <td>1.000000</td>\n",
       "    </tr>\n",
       "    <tr>\n",
       "      <th>25%</th>\n",
       "      <td>1.000000</td>\n",
       "      <td>1.000000</td>\n",
       "      <td>37.800000</td>\n",
       "      <td>48.000000</td>\n",
       "      <td>18.500000</td>\n",
       "      <td>1.000000</td>\n",
       "      <td>2.00000</td>\n",
       "      <td>1.000000</td>\n",
       "    </tr>\n",
       "    <tr>\n",
       "      <th>50%</th>\n",
       "      <td>1.000000</td>\n",
       "      <td>1.000000</td>\n",
       "      <td>38.200000</td>\n",
       "      <td>64.000000</td>\n",
       "      <td>24.500000</td>\n",
       "      <td>3.000000</td>\n",
       "      <td>3.00000</td>\n",
       "      <td>1.000000</td>\n",
       "    </tr>\n",
       "    <tr>\n",
       "      <th>75%</th>\n",
       "      <td>2.000000</td>\n",
       "      <td>1.000000</td>\n",
       "      <td>38.500000</td>\n",
       "      <td>88.000000</td>\n",
       "      <td>36.000000</td>\n",
       "      <td>3.000000</td>\n",
       "      <td>4.00000</td>\n",
       "      <td>2.000000</td>\n",
       "    </tr>\n",
       "    <tr>\n",
       "      <th>max</th>\n",
       "      <td>2.000000</td>\n",
       "      <td>9.000000</td>\n",
       "      <td>40.800000</td>\n",
       "      <td>184.000000</td>\n",
       "      <td>96.000000</td>\n",
       "      <td>4.000000</td>\n",
       "      <td>5.00000</td>\n",
       "      <td>3.000000</td>\n",
       "    </tr>\n",
       "  </tbody>\n",
       "</table>\n",
       "</div>"
      ],
      "text/plain": [
       "         операция     Возраст  ректальная_температура       пульс  \\\n",
       "count  299.000000  300.000000              240.000000  276.000000   \n",
       "mean     1.397993    1.640000               38.167917   71.913043   \n",
       "std      0.490305    2.173972                0.732289   28.630557   \n",
       "min      1.000000    1.000000               35.400000   30.000000   \n",
       "25%      1.000000    1.000000               37.800000   48.000000   \n",
       "50%      1.000000    1.000000               38.200000   64.000000   \n",
       "75%      2.000000    1.000000               38.500000   88.000000   \n",
       "max      2.000000    9.000000               40.800000  184.000000   \n",
       "\n",
       "       частота_дыхания  температура_конечностей       боль       исход  \n",
       "count       242.000000               244.000000  245.00000  299.000000  \n",
       "mean         30.417355                 2.348361    2.95102    1.551839  \n",
       "std          17.642231                 1.045054    1.30794    0.737187  \n",
       "min           8.000000                 1.000000    1.00000    1.000000  \n",
       "25%          18.500000                 1.000000    2.00000    1.000000  \n",
       "50%          24.500000                 3.000000    3.00000    1.000000  \n",
       "75%          36.000000                 3.000000    4.00000    2.000000  \n",
       "max          96.000000                 4.000000    5.00000    3.000000  "
      ]
     },
     "execution_count": 12,
     "metadata": {},
     "output_type": "execute_result"
    }
   ],
   "source": [
    "df.describe()"
   ]
  },
  {
   "cell_type": "code",
   "execution_count": 13,
   "id": "12d820df",
   "metadata": {},
   "outputs": [
    {
     "data": {
      "text/plain": [
       "Text(0.5, 1.0, 'исход')"
      ]
     },
     "execution_count": 13,
     "metadata": {},
     "output_type": "execute_result"
    },
    {
     "data": {
      "image/png": "[encoded data removed]",
      "text/plain": [
       "<Figure size 1080x1152 with 8 Axes>"
      ]
     },
     "metadata": {
      "needs_background": "light"
     },
     "output_type": "display_data"
    }
   ],
   "source": [
    "# распределение значений связанное с наличием/отсутствием операции\n",
    "\n",
    "fig, axs = plt.subplots(3, 3, figsize=(15, 16))\n",
    "                        \n",
    "plt.subplot (4, 2, 1)\n",
    "plt.hist(df.операция, color='black')  \n",
    "plt.title (\"операция\")\n",
    "\n",
    "plt.subplot (4, 2, 2)\n",
    "plt.hist(df.Возраст, color='black')  \n",
    "plt.title (\"Возраст\")\n",
    "\n",
    "plt.subplot (4, 2, 3)\n",
    "plt.hist(df.ректальная_температура, color='black', bins=20)  \n",
    "plt.title (\"ректальная_температура\")\n",
    "\n",
    "plt.subplot (4, 2, 4)\n",
    "plt.hist(df.пульс, color='black', bins=20)  \n",
    "plt.title (\"пульс\")\n",
    "\n",
    "plt.subplot (4, 2, 5)\n",
    "plt.hist(df.частота_дыхания, color='black', bins=20)  \n",
    "plt.title (\"частота_дыхания\")\n",
    "\n",
    "plt.subplot (4, 2, 6)\n",
    "plt.hist(df.температура_конечностей, color='black')  \n",
    "plt.title (\"температура_конечностей\")\n",
    "\n",
    "plt.subplot (4, 2, 7)\n",
    "plt.hist(df.боль, color='black')  \n",
    "plt.title (\"боль\")\n",
    "\n",
    "plt.subplot (4, 2, 8)\n",
    "plt.hist(df.исход, color='black')  \n",
    "plt.title (\"исход\")\n"
   ]
  },
  {
   "cell_type": "code",
   "execution_count": 14,
   "id": "e69483dc",
   "metadata": {},
   "outputs": [
    {
     "data": {
      "text/plain": [
       "(0.0, 100.0)"
      ]
     },
     "execution_count": 14,
     "metadata": {},
     "output_type": "execute_result"
    },
    {
     "data": {
      "image/png": "[encoded data removed]",
      "text/plain": [
       "<Figure size 1080x1080 with 6 Axes>"
      ]
     },
     "metadata": {
      "needs_background": "light"
     },
     "output_type": "display_data"
    }
   ],
   "source": [
    "# выбросы по количественным переменным\n",
    "# что есть выбросы - можно оценить по разному\n",
    "\n",
    "fig, axs = plt.subplots(3, 2, figsize=(15, 15))\n",
    "\n",
    "plt.subplot (3, 2, 1)\n",
    "df.loc[df.операция == 1, 'ректальная_температура'].plot(kind='box')\n",
    "plt.title (\"ректальная_температура с операцией\")\n",
    "plt.ylim([35, 42])\n",
    "\n",
    "plt.subplot (3, 2, 2)\n",
    "df.loc[df.операция == 2, 'ректальная_температура'].plot(kind='box')\n",
    "plt.title (\"ректальная_температура без операции\")\n",
    "plt.ylim([35, 42])\n",
    "\n",
    "plt.subplot (3, 2, 3)\n",
    "df.loc[df.операция == 1, 'пульс'].plot(kind='box')\n",
    "plt.title (\"пульс с операцией\")\n",
    "plt.ylim([25, 190])\n",
    "\n",
    "plt.subplot (3, 2, 4)\n",
    "df.loc[df.операция == 2, 'пульс'].plot(kind='box')\n",
    "plt.title (\"пульс без операции\")\n",
    "plt.ylim([25, 190])\n",
    "\n",
    "plt.subplot (3, 2, 5)\n",
    "df.loc[df.операция == 1, 'частота_дыхания'].plot(kind='box')\n",
    "plt.title (\"частота_дыхания с операцией\")\n",
    "plt.ylim([0, 100])\n",
    "\n",
    "plt.subplot (3, 2, 6)\n",
    "df.loc[df.операция == 2, 'частота_дыхания'].plot(kind='box')\n",
    "plt.title (\"частота_дыхания без операции\")\n",
    "plt.ylim([0, 100])"
   ]
  },
  {
   "cell_type": "code",
   "execution_count": 15,
   "id": "21210ce2",
   "metadata": {},
   "outputs": [
    {
     "data": {
      "text/plain": [
       "(25.0, 190.0)"
      ]
     },
     "execution_count": 15,
     "metadata": {},
     "output_type": "execute_result"
    },
    {
     "data": {
      "image/png": "[encoded data removed]",
      "text/plain": [
       "<Figure size 1080x504 with 3 Axes>"
      ]
     },
     "metadata": {
      "needs_background": "light"
     },
     "output_type": "display_data"
    }
   ],
   "source": [
    "# пульс по исходам\n",
    "\n",
    "fig, axs = plt.subplots(3, 2, figsize=(15, 7))\n",
    "\n",
    "plt.subplot (1, 3, 1)\n",
    "df.loc[df.исход == 1, 'пульс'].plot(kind='box')\n",
    "plt.title (\"пульс исход 1 выжил\")\n",
    "plt.ylim([25, 190])\n",
    "\n",
    "plt.subplot (1, 3, 2)\n",
    "df.loc[df.исход == 2, 'пульс'].plot(kind='box')\n",
    "plt.title (\"пульс исход 2 умер\")\n",
    "plt.ylim([25, 190])\n",
    "\n",
    "plt.subplot (1, 3, 3)\n",
    "df.loc[df.исход == 3, 'пульс'].plot(kind='box')\n",
    "plt.title (\"пульс исход 3 усыплен\")\n",
    "plt.ylim([25, 190])"
   ]
  },
  {
   "cell_type": "code",
   "execution_count": 16,
   "id": "3732fe15",
   "metadata": {},
   "outputs": [
    {
     "data": {
      "text/plain": [
       "(0.0, 100.0)"
      ]
     },
     "execution_count": 16,
     "metadata": {},
     "output_type": "execute_result"
    },
    {
     "data": {
      "image/png": "[encoded data removed]",
      "text/plain": [
       "<Figure size 1080x504 with 3 Axes>"
      ]
     },
     "metadata": {
      "needs_background": "light"
     },
     "output_type": "display_data"
    }
   ],
   "source": [
    "# частота дыхания по исходам\n",
    "\n",
    "fig, axs = plt.subplots(3, 2, figsize=(15, 7))\n",
    "\n",
    "plt.subplot (1, 3, 1)\n",
    "df.loc[df.исход == 1, 'частота_дыхания'].plot(kind='box')\n",
    "plt.title (\"частота_дыхания исход 1 выжил\")\n",
    "plt.ylim([0, 100])\n",
    "\n",
    "plt.subplot (1, 3, 2)\n",
    "df.loc[df.исход == 2, 'частота_дыхания'].plot(kind='box')\n",
    "plt.title (\"частота_дыхания исход 2 умер\")\n",
    "plt.ylim([0, 100])\n",
    "\n",
    "plt.subplot (1, 3, 3)\n",
    "df.loc[df.исход == 3, 'частота_дыхания'].plot(kind='box')\n",
    "plt.title (\"частота_дыхания исход 3 усыплен\")\n",
    "plt.ylim([0, 100])"
   ]
  },
  {
   "cell_type": "code",
   "execution_count": 17,
   "id": "867971d8",
   "metadata": {},
   "outputs": [
    {
     "data": {
      "text/plain": [
       "Text(0.5, 1.0, 'температура_конечностей исход 3 усыплен')"
      ]
     },
     "execution_count": 17,
     "metadata": {},
     "output_type": "execute_result"
    },
    {
     "data": {
      "image/png": "[encoded data removed]",
      "text/plain": [
       "<Figure size 1080x504 with 3 Axes>"
      ]
     },
     "metadata": {
      "needs_background": "light"
     },
     "output_type": "display_data"
    }
   ],
   "source": [
    "# температура конечностей по исходам\n",
    "\n",
    "fig, axs = plt.subplots(3, 2, figsize=(15, 7))\n",
    "\n",
    "plt.subplot (1, 3, 1)\n",
    "df.loc[df.исход == 1, 'температура_конечностей'].plot(kind='hist', color='black')\n",
    "plt.title (\"температура_конечностей исход 1 выжил\")\n",
    "\n",
    "plt.subplot (1, 3, 2)\n",
    "df.loc[df.исход == 2, 'температура_конечностей'].plot(kind='hist', color='black')\n",
    "plt.title (\"температура_конечностей исход 2 умер\")\n",
    "\n",
    "plt.subplot (1, 3, 3)\n",
    "df.loc[df.исход == 3, 'температура_конечностей'].plot(kind='hist', color='black')\n",
    "plt.title (\"температура_конечностей исход 3 усыплен\")\n"
   ]
  },
  {
   "cell_type": "code",
   "execution_count": 18,
   "id": "20496a66",
   "metadata": {},
   "outputs": [
    {
     "data": {
      "text/plain": [
       "Text(0.5, 1.0, 'боль исход 3 усыплен')"
      ]
     },
     "execution_count": 18,
     "metadata": {},
     "output_type": "execute_result"
    },
    {
     "data": {
      "image/png": "[encoded data removed]",
      "text/plain": [
       "<Figure size 1080x504 with 3 Axes>"
      ]
     },
     "metadata": {
      "needs_background": "light"
     },
     "output_type": "display_data"
    }
   ],
   "source": [
    "# боль по исходам\n",
    "\n",
    "fig, axs = plt.subplots(3, 2, figsize=(15, 7))\n",
    "\n",
    "plt.subplot (1, 3, 1)\n",
    "df.loc[df.исход == 1, 'боль'].plot(kind='hist', color='black')\n",
    "plt.title (\"боль исход 1 выжил\")\n",
    "\n",
    "plt.subplot (1, 3, 2)\n",
    "df.loc[df.исход == 2, 'боль'].plot(kind='hist', color='black')\n",
    "plt.title (\"боль исход 2 умер\")\n",
    "\n",
    "plt.subplot (1, 3, 3)\n",
    "df.loc[df.исход == 3, 'боль'].plot(kind='hist', color='black')\n",
    "plt.title (\"боль исход 3 усыплен\")"
   ]
  },
  {
   "cell_type": "code",
   "execution_count": 19,
   "id": "3a03e1a1",
   "metadata": {},
   "outputs": [
    {
     "data": {
      "text/plain": [
       "(300, 8)"
      ]
     },
     "execution_count": 19,
     "metadata": {},
     "output_type": "execute_result"
    }
   ],
   "source": [
    "df.shape"
   ]
  },
  {
   "cell_type": "code",
   "execution_count": 20,
   "id": "2b6c25f8",
   "metadata": {},
   "outputs": [],
   "source": [
    "# Задание 3"
   ]
  },
  {
   "cell_type": "code",
   "execution_count": 21,
   "id": "ffec7844",
   "metadata": {},
   "outputs": [
    {
     "data": {
      "text/plain": [
       "операция                    1\n",
       "Возраст                     0\n",
       "ректальная_температура     60\n",
       "пульс                      24\n",
       "частота_дыхания            58\n",
       "температура_конечностей    56\n",
       "боль                       55\n",
       "исход                       1\n",
       "dtype: int64"
      ]
     },
     "execution_count": 21,
     "metadata": {},
     "output_type": "execute_result"
    }
   ],
   "source": [
    "df.isnull().sum()"
   ]
  },
  {
   "cell_type": "code",
   "execution_count": 22,
   "id": "8b253e78",
   "metadata": {},
   "outputs": [],
   "source": [
    "# заполним интуитивно\n",
    "\n",
    "#df.операция = df.операция.fillna()     одно значение просто выкинем\n",
    "\n",
    "# заполним средним - распределение нормальное\n",
    "df.ректальная_температура = df.ректальная_температура.fillna(df.ректальная_температура.mean())       \n",
    "\n",
    "# заполним медианой по группам исхода\n",
    "p1 = df.loc[df.исход == 1, 'пульс'].median()\n",
    "p2 = df.loc[df.исход == 2, 'пульс'].median()\n",
    "p3 = df.loc[df.исход == 3, 'пульс'].median()\n",
    "\n",
    "df.loc[df.исход == 1, 'пульс'] = df.loc[df.исход == 1, 'пульс'].fillna(p1)\n",
    "df.loc[df.исход == 2, 'пульс'] = df.loc[df.исход == 2, 'пульс'].fillna(p2)\n",
    "df.loc[df.исход == 3, 'пульс'] = df.loc[df.исход == 3, 'пульс'].fillna(p3)\n",
    "\n",
    "\n",
    "ch1 = df.loc[df.исход == 1, 'частота_дыхания'].median()\n",
    "ch2 = df.loc[df.исход == 2, 'частота_дыхания'].median()\n",
    "ch3 = df.loc[df.исход == 3, 'частота_дыхания'].median()\n",
    "\n",
    "df.loc[df.исход == 1, 'частота_дыхания'] = df.loc[df.исход == 1, 'частота_дыхания'].fillna(ch1)\n",
    "df.loc[df.исход == 2, 'частота_дыхания'] = df.loc[df.исход == 2, 'частота_дыхания'].fillna(ch2)\n",
    "df.loc[df.исход == 3, 'частота_дыхания'] = df.loc[df.исход == 3, 'частота_дыхания'].fillna(ch3)\n",
    "\n",
    "\n",
    "\n",
    "# заполним модой по группам исхода\n",
    "te1 = df.loc[df.исход == 1, 'температура_конечностей'].mode()[0]\n",
    "te2 = df.loc[df.исход == 2, 'температура_конечностей'].mode()[0]\n",
    "te3 = df.loc[df.исход == 3, 'температура_конечностей'].mode()[0]\n",
    "\n",
    "df.loc[df.исход == 1, 'температура_конечностей'] = df.loc[df.исход == 1, 'температура_конечностей'].fillna(te1)\n",
    "df.loc[df.исход == 2, 'температура_конечностей'] = df.loc[df.исход == 2, 'температура_конечностей'].fillna(te2)\n",
    "df.loc[df.исход == 3, 'температура_конечностей'] = df.loc[df.исход == 3, 'температура_конечностей'].fillna(te3)\n",
    "\n",
    "pain1 = df.loc[df.исход == 1, 'боль'].mode()[0]\n",
    "pain2 = df.loc[df.исход == 2, 'боль'].mode()[0]\n",
    "pain3 = df.loc[df.исход == 3, 'боль'].mode()[0]\n",
    "\n",
    "df.loc[df.исход == 1, 'боль'] = df.loc[df.исход == 1, 'боль'].fillna(pain1)\n",
    "df.loc[df.исход == 2, 'боль'] = df.loc[df.исход == 2, 'боль'].fillna(pain2)\n",
    "df.loc[df.исход == 3, 'боль'] = df.loc[df.исход == 3, 'боль'].fillna(pain3)\n",
    "\n",
    "\n",
    "#df.исход = df.исход.fillna()            одно значение просто выкинем"
   ]
  },
  {
   "cell_type": "code",
   "execution_count": 23,
   "id": "9a11a7b2",
   "metadata": {},
   "outputs": [
    {
     "data": {
      "text/plain": [
       "операция                   1\n",
       "Возраст                    0\n",
       "ректальная_температура     0\n",
       "пульс                      0\n",
       "частота_дыхания            0\n",
       "температура_конечностей    0\n",
       "боль                       0\n",
       "исход                      1\n",
       "dtype: int64"
      ]
     },
     "execution_count": 23,
     "metadata": {},
     "output_type": "execute_result"
    }
   ],
   "source": [
    "df.isnull().sum()"
   ]
  },
  {
   "cell_type": "code",
   "execution_count": 24,
   "id": "f1d5e62f",
   "metadata": {},
   "outputs": [],
   "source": [
    "df_end = df[(df.операция.notna()) & (df.исход.notna())].copy()"
   ]
  },
  {
   "cell_type": "code",
   "execution_count": 25,
   "id": "ba086321",
   "metadata": {},
   "outputs": [
    {
     "data": {
      "text/plain": [
       "операция                   0\n",
       "Возраст                    0\n",
       "ректальная_температура     0\n",
       "пульс                      0\n",
       "частота_дыхания            0\n",
       "температура_конечностей    0\n",
       "боль                       0\n",
       "исход                      0\n",
       "dtype: int64"
      ]
     },
     "execution_count": 25,
     "metadata": {},
     "output_type": "execute_result"
    }
   ],
   "source": [
    "df_end.isnull().sum()"
   ]
  },
  {
   "cell_type": "code",
   "execution_count": 26,
   "id": "882cd404",
   "metadata": {},
   "outputs": [
    {
     "data": {
      "text/plain": [
       "(300, 8)"
      ]
     },
     "execution_count": 26,
     "metadata": {},
     "output_type": "execute_result"
    }
   ],
   "source": [
    "df.shape"
   ]
  },
  {
   "cell_type": "code",
   "execution_count": 28,
   "id": "3efa91f7",
   "metadata": {},
   "outputs": [],
   "source": [
    "# выбросы по ректальной температуре возьмем исходя из гистограммы распределения значений\n",
    "# пульс > 160               на основании бокс_плот\n",
    "# частота дыхания > 75      на основании бокс_плот\n",
    "\n",
    "df_end = df_end[(df_end.ректальная_температура > 35) & \n",
    "                (df_end.ректальная_температура < 40) & \n",
    "                (df_end.пульс < 160) & \n",
    "                (df_end.частота_дыхания < 75)].copy()"
   ]
  },
  {
   "cell_type": "code",
   "execution_count": 29,
   "id": "2bb9a28c",
   "metadata": {},
   "outputs": [
    {
     "data": {
      "text/plain": [
       "(284, 8)"
      ]
     },
     "execution_count": 29,
     "metadata": {},
     "output_type": "execute_result"
    }
   ],
   "source": [
    "df_end.shape"
   ]
  },
  {
   "cell_type": "code",
   "execution_count": 30,
   "id": "52e4699b",
   "metadata": {},
   "outputs": [
    {
     "data": {
      "text/html": [
       "<div>\n",
       "<style scoped>\n",
       "    .dataframe tbody tr th:only-of-type {\n",
       "        vertical-align: middle;\n",
       "    }\n",
       "\n",
       "    .dataframe tbody tr th {\n",
       "        vertical-align: top;\n",
       "    }\n",
       "\n",
       "    .dataframe thead th {\n",
       "        text-align: right;\n",
       "    }\n",
       "</style>\n",
       "<table border=\"1\" class=\"dataframe\">\n",
       "  <thead>\n",
       "    <tr style=\"text-align: right;\">\n",
       "      <th></th>\n",
       "      <th>операция</th>\n",
       "      <th>Возраст</th>\n",
       "      <th>ректальная_температура</th>\n",
       "      <th>пульс</th>\n",
       "      <th>частота_дыхания</th>\n",
       "      <th>температура_конечностей</th>\n",
       "      <th>боль</th>\n",
       "      <th>исход</th>\n",
       "    </tr>\n",
       "  </thead>\n",
       "  <tbody>\n",
       "    <tr>\n",
       "      <th>0</th>\n",
       "      <td>2.0</td>\n",
       "      <td>1.0</td>\n",
       "      <td>38.500000</td>\n",
       "      <td>66.0</td>\n",
       "      <td>28.0</td>\n",
       "      <td>3.0</td>\n",
       "      <td>5.0</td>\n",
       "      <td>2.0</td>\n",
       "    </tr>\n",
       "    <tr>\n",
       "      <th>1</th>\n",
       "      <td>1.0</td>\n",
       "      <td>1.0</td>\n",
       "      <td>39.200000</td>\n",
       "      <td>88.0</td>\n",
       "      <td>20.0</td>\n",
       "      <td>3.0</td>\n",
       "      <td>3.0</td>\n",
       "      <td>3.0</td>\n",
       "    </tr>\n",
       "    <tr>\n",
       "      <th>2</th>\n",
       "      <td>2.0</td>\n",
       "      <td>1.0</td>\n",
       "      <td>38.300000</td>\n",
       "      <td>40.0</td>\n",
       "      <td>24.0</td>\n",
       "      <td>1.0</td>\n",
       "      <td>3.0</td>\n",
       "      <td>1.0</td>\n",
       "    </tr>\n",
       "    <tr>\n",
       "      <th>4</th>\n",
       "      <td>2.0</td>\n",
       "      <td>1.0</td>\n",
       "      <td>37.300000</td>\n",
       "      <td>104.0</td>\n",
       "      <td>35.0</td>\n",
       "      <td>3.0</td>\n",
       "      <td>5.0</td>\n",
       "      <td>2.0</td>\n",
       "    </tr>\n",
       "    <tr>\n",
       "      <th>5</th>\n",
       "      <td>2.0</td>\n",
       "      <td>1.0</td>\n",
       "      <td>38.167917</td>\n",
       "      <td>54.0</td>\n",
       "      <td>24.0</td>\n",
       "      <td>2.0</td>\n",
       "      <td>2.0</td>\n",
       "      <td>1.0</td>\n",
       "    </tr>\n",
       "    <tr>\n",
       "      <th>...</th>\n",
       "      <td>...</td>\n",
       "      <td>...</td>\n",
       "      <td>...</td>\n",
       "      <td>...</td>\n",
       "      <td>...</td>\n",
       "      <td>...</td>\n",
       "      <td>...</td>\n",
       "      <td>...</td>\n",
       "    </tr>\n",
       "    <tr>\n",
       "      <th>295</th>\n",
       "      <td>1.0</td>\n",
       "      <td>1.0</td>\n",
       "      <td>38.167917</td>\n",
       "      <td>120.0</td>\n",
       "      <td>70.0</td>\n",
       "      <td>4.0</td>\n",
       "      <td>2.0</td>\n",
       "      <td>3.0</td>\n",
       "    </tr>\n",
       "    <tr>\n",
       "      <th>296</th>\n",
       "      <td>2.0</td>\n",
       "      <td>1.0</td>\n",
       "      <td>37.200000</td>\n",
       "      <td>72.0</td>\n",
       "      <td>24.0</td>\n",
       "      <td>3.0</td>\n",
       "      <td>4.0</td>\n",
       "      <td>3.0</td>\n",
       "    </tr>\n",
       "    <tr>\n",
       "      <th>297</th>\n",
       "      <td>1.0</td>\n",
       "      <td>1.0</td>\n",
       "      <td>37.500000</td>\n",
       "      <td>72.0</td>\n",
       "      <td>30.0</td>\n",
       "      <td>4.0</td>\n",
       "      <td>4.0</td>\n",
       "      <td>2.0</td>\n",
       "    </tr>\n",
       "    <tr>\n",
       "      <th>298</th>\n",
       "      <td>1.0</td>\n",
       "      <td>1.0</td>\n",
       "      <td>36.500000</td>\n",
       "      <td>100.0</td>\n",
       "      <td>24.0</td>\n",
       "      <td>3.0</td>\n",
       "      <td>3.0</td>\n",
       "      <td>1.0</td>\n",
       "    </tr>\n",
       "    <tr>\n",
       "      <th>299</th>\n",
       "      <td>1.0</td>\n",
       "      <td>1.0</td>\n",
       "      <td>37.200000</td>\n",
       "      <td>40.0</td>\n",
       "      <td>20.0</td>\n",
       "      <td>3.0</td>\n",
       "      <td>2.0</td>\n",
       "      <td>3.0</td>\n",
       "    </tr>\n",
       "  </tbody>\n",
       "</table>\n",
       "<p>284 rows × 8 columns</p>\n",
       "</div>"
      ],
      "text/plain": [
       "     операция  Возраст  ректальная_температура  пульс  частота_дыхания  \\\n",
       "0         2.0      1.0               38.500000   66.0             28.0   \n",
       "1         1.0      1.0               39.200000   88.0             20.0   \n",
       "2         2.0      1.0               38.300000   40.0             24.0   \n",
       "4         2.0      1.0               37.300000  104.0             35.0   \n",
       "5         2.0      1.0               38.167917   54.0             24.0   \n",
       "..        ...      ...                     ...    ...              ...   \n",
       "295       1.0      1.0               38.167917  120.0             70.0   \n",
       "296       2.0      1.0               37.200000   72.0             24.0   \n",
       "297       1.0      1.0               37.500000   72.0             30.0   \n",
       "298       1.0      1.0               36.500000  100.0             24.0   \n",
       "299       1.0      1.0               37.200000   40.0             20.0   \n",
       "\n",
       "     температура_конечностей  боль  исход  \n",
       "0                        3.0   5.0    2.0  \n",
       "1                        3.0   3.0    3.0  \n",
       "2                        1.0   3.0    1.0  \n",
       "4                        3.0   5.0    2.0  \n",
       "5                        2.0   2.0    1.0  \n",
       "..                       ...   ...    ...  \n",
       "295                      4.0   2.0    3.0  \n",
       "296                      3.0   4.0    3.0  \n",
       "297                      4.0   4.0    2.0  \n",
       "298                      3.0   3.0    1.0  \n",
       "299                      3.0   2.0    3.0  \n",
       "\n",
       "[284 rows x 8 columns]"
      ]
     },
     "execution_count": 30,
     "metadata": {},
     "output_type": "execute_result"
    }
   ],
   "source": [
    "df_end"
   ]
  },
  {
   "cell_type": "code",
   "execution_count": null,
   "id": "e371efcf",
   "metadata": {},
   "outputs": [],
   "source": []
  }
 ],
 "metadata": {
  "kernelspec": {
   "display_name": "Python 3 (ipykernel)",
   "language": "python",
   "name": "python3"
  },
  "language_info": {
   "codemirror_mode": {
    "name": "ipython",
    "version": 3
   },
   "file_extension": ".py",
   "mimetype": "text/x-python",
   "name": "python",
   "nbconvert_exporter": "python",
   "pygments_lexer": "ipython3",
   "version": "3.11.7"
  }
 },
 "nbformat": 4,
 "nbformat_minor": 5
}

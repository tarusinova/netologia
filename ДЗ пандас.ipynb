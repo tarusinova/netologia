{
 "cells": [
  {
   "cell_type": "code",
   "execution_count": 6,
   "id": "fc2ac1fc",
   "metadata": {},
   "outputs": [],
   "source": [
    "import pandas as pd"
   ]
  },
  {
   "cell_type": "code",
   "execution_count": null,
   "id": "c92c01ee",
   "metadata": {},
   "outputs": [],
   "source": [
    "# Задание №1"
   ]
  },
  {
   "cell_type": "code",
   "execution_count": 7,
   "id": "559ed5c6",
   "metadata": {},
   "outputs": [],
   "source": [
    "# links = pd.read_csv(r'C:\\Users\\User\\Desktop\\Курсы аналитика\\файлы дз пандас\\ml-latest\\links.csv')\n",
    "# tags = pd.read_csv(r'C:\\Users\\User\\Desktop\\Курсы аналитика\\файлы дз пандас\\ml-latest\\tags.csv')\n",
    "movies = pd.read_csv(r'C:\\Users\\operator\\Documents\\python\\10._Основы_pandas\\Файлы к заданию №1\\movies.csv')\n",
    "rating = pd.read_csv(r'C:\\Users\\operator\\Documents\\python\\10._Основы_pandas\\Файлы к заданию №1\\ratings.csv')"
   ]
  },
  {
   "cell_type": "code",
   "execution_count": 25,
   "id": "8af22569",
   "metadata": {},
   "outputs": [],
   "source": [
    "#display(links.head(), tags.head(), movies.head(), rating.head())"
   ]
  },
  {
   "cell_type": "code",
   "execution_count": 8,
   "id": "99729162",
   "metadata": {},
   "outputs": [
    {
     "data": {
      "text/plain": [
       "9742"
      ]
     },
     "execution_count": 8,
     "metadata": {},
     "output_type": "execute_result"
    }
   ],
   "source": [
    "movies.movieId.nunique()"
   ]
  },
  {
   "cell_type": "code",
   "execution_count": 9,
   "id": "6ec32ef6",
   "metadata": {},
   "outputs": [
    {
     "data": {
      "text/plain": [
       "9724"
      ]
     },
     "execution_count": 9,
     "metadata": {},
     "output_type": "execute_result"
    }
   ],
   "source": [
    "rating.movieId.nunique()"
   ]
  },
  {
   "cell_type": "code",
   "execution_count": 10,
   "id": "30312b6d",
   "metadata": {},
   "outputs": [
    {
     "data": {
      "text/plain": [
       "(100836, 4)"
      ]
     },
     "execution_count": 10,
     "metadata": {},
     "output_type": "execute_result"
    }
   ],
   "source": [
    "rating.shape"
   ]
  },
  {
   "cell_type": "code",
   "execution_count": 11,
   "id": "647a52e4",
   "metadata": {},
   "outputs": [
    {
     "data": {
      "text/plain": [
       "610"
      ]
     },
     "execution_count": 11,
     "metadata": {},
     "output_type": "execute_result"
    }
   ],
   "source": [
    "rating.userId.nunique()"
   ]
  },
  {
   "cell_type": "code",
   "execution_count": 12,
   "id": "024f379a",
   "metadata": {},
   "outputs": [
    {
     "data": {
      "text/plain": [
       "array([4. , 5. , 3. , 2. , 1. , 4.5, 3.5, 2.5, 0.5, 1.5])"
      ]
     },
     "execution_count": 12,
     "metadata": {},
     "output_type": "execute_result"
    }
   ],
   "source": [
    "rating.rating.unique()"
   ]
  },
  {
   "cell_type": "code",
   "execution_count": 13,
   "id": "ff717ae6",
   "metadata": {},
   "outputs": [
    {
     "data": {
      "text/plain": [
       "movieId\n",
       "318       153\n",
       "296       123\n",
       "356       116\n",
       "2571      109\n",
       "260       104\n",
       "         ... \n",
       "8529        1\n",
       "88810       1\n",
       "65          1\n",
       "467         1\n",
       "156371      1\n",
       "Name: count, Length: 2954, dtype: int64"
      ]
     },
     "execution_count": 13,
     "metadata": {},
     "output_type": "execute_result"
    }
   ],
   "source": [
    "rating[rating.rating == 5].movieId.value_counts().sort_values(ascending=False)"
   ]
  },
  {
   "cell_type": "code",
   "execution_count": 14,
   "id": "3ae01896",
   "metadata": {},
   "outputs": [
    {
     "data": {
      "text/html": [
       "<div>\n",
       "<style scoped>\n",
       "    .dataframe tbody tr th:only-of-type {\n",
       "        vertical-align: middle;\n",
       "    }\n",
       "\n",
       "    .dataframe tbody tr th {\n",
       "        vertical-align: top;\n",
       "    }\n",
       "\n",
       "    .dataframe thead th {\n",
       "        text-align: right;\n",
       "    }\n",
       "</style>\n",
       "<table border=\"1\" class=\"dataframe\">\n",
       "  <thead>\n",
       "    <tr style=\"text-align: right;\">\n",
       "      <th></th>\n",
       "      <th>movieId</th>\n",
       "      <th>title</th>\n",
       "      <th>genres</th>\n",
       "    </tr>\n",
       "  </thead>\n",
       "  <tbody>\n",
       "    <tr>\n",
       "      <th>277</th>\n",
       "      <td>318</td>\n",
       "      <td>Shawshank Redemption, The (1994)</td>\n",
       "      <td>Crime|Drama</td>\n",
       "    </tr>\n",
       "  </tbody>\n",
       "</table>\n",
       "</div>"
      ],
      "text/plain": [
       "     movieId                             title       genres\n",
       "277      318  Shawshank Redemption, The (1994)  Crime|Drama"
      ]
     },
     "execution_count": 14,
     "metadata": {},
     "output_type": "execute_result"
    }
   ],
   "source": [
    "movies[movies.movieId == 318]"
   ]
  },
  {
   "cell_type": "code",
   "execution_count": null,
   "id": "c536227f",
   "metadata": {},
   "outputs": [],
   "source": [
    "# Задание №2"
   ]
  },
  {
   "cell_type": "code",
   "execution_count": 15,
   "id": "ea015ee3",
   "metadata": {},
   "outputs": [],
   "source": [
    "power = pd.read_csv(r'C:\\Users\\operator\\Documents\\python\\10._Основы_pandas\\Файлы к заданию №2\\power.csv')"
   ]
  },
  {
   "cell_type": "code",
   "execution_count": 16,
   "id": "2e3ab047",
   "metadata": {},
   "outputs": [
    {
     "data": {
      "text/html": [
       "<div>\n",
       "<style scoped>\n",
       "    .dataframe tbody tr th:only-of-type {\n",
       "        vertical-align: middle;\n",
       "    }\n",
       "\n",
       "    .dataframe tbody tr th {\n",
       "        vertical-align: top;\n",
       "    }\n",
       "\n",
       "    .dataframe thead th {\n",
       "        text-align: right;\n",
       "    }\n",
       "</style>\n",
       "<table border=\"1\" class=\"dataframe\">\n",
       "  <thead>\n",
       "    <tr style=\"text-align: right;\">\n",
       "      <th></th>\n",
       "      <th>country</th>\n",
       "      <th>year</th>\n",
       "      <th>quantity</th>\n",
       "      <th>category</th>\n",
       "    </tr>\n",
       "  </thead>\n",
       "  <tbody>\n",
       "    <tr>\n",
       "      <th>0</th>\n",
       "      <td>Austria</td>\n",
       "      <td>1996</td>\n",
       "      <td>5.0</td>\n",
       "      <td>1</td>\n",
       "    </tr>\n",
       "    <tr>\n",
       "      <th>1</th>\n",
       "      <td>Austria</td>\n",
       "      <td>1995</td>\n",
       "      <td>17.0</td>\n",
       "      <td>1</td>\n",
       "    </tr>\n",
       "    <tr>\n",
       "      <th>2</th>\n",
       "      <td>Belgium</td>\n",
       "      <td>2014</td>\n",
       "      <td>0.0</td>\n",
       "      <td>1</td>\n",
       "    </tr>\n",
       "    <tr>\n",
       "      <th>3</th>\n",
       "      <td>Belgium</td>\n",
       "      <td>2013</td>\n",
       "      <td>0.0</td>\n",
       "      <td>1</td>\n",
       "    </tr>\n",
       "    <tr>\n",
       "      <th>4</th>\n",
       "      <td>Belgium</td>\n",
       "      <td>2012</td>\n",
       "      <td>35.0</td>\n",
       "      <td>1</td>\n",
       "    </tr>\n",
       "    <tr>\n",
       "      <th>...</th>\n",
       "      <td>...</td>\n",
       "      <td>...</td>\n",
       "      <td>...</td>\n",
       "      <td>...</td>\n",
       "    </tr>\n",
       "    <tr>\n",
       "      <th>1189477</th>\n",
       "      <td>Viet Nam</td>\n",
       "      <td>2012</td>\n",
       "      <td>92.0</td>\n",
       "      <td>71</td>\n",
       "    </tr>\n",
       "    <tr>\n",
       "      <th>1189478</th>\n",
       "      <td>Viet Nam</td>\n",
       "      <td>2011</td>\n",
       "      <td>87.0</td>\n",
       "      <td>71</td>\n",
       "    </tr>\n",
       "    <tr>\n",
       "      <th>1189479</th>\n",
       "      <td>Viet Nam</td>\n",
       "      <td>2010</td>\n",
       "      <td>50.0</td>\n",
       "      <td>71</td>\n",
       "    </tr>\n",
       "    <tr>\n",
       "      <th>1189480</th>\n",
       "      <td>Viet Nam</td>\n",
       "      <td>2009</td>\n",
       "      <td>10.0</td>\n",
       "      <td>71</td>\n",
       "    </tr>\n",
       "    <tr>\n",
       "      <th>1189481</th>\n",
       "      <td>Viet Nam</td>\n",
       "      <td>2008</td>\n",
       "      <td>1.0</td>\n",
       "      <td>71</td>\n",
       "    </tr>\n",
       "  </tbody>\n",
       "</table>\n",
       "<p>1189482 rows × 4 columns</p>\n",
       "</div>"
      ],
      "text/plain": [
       "          country  year  quantity  category\n",
       "0         Austria  1996       5.0         1\n",
       "1         Austria  1995      17.0         1\n",
       "2         Belgium  2014       0.0         1\n",
       "3         Belgium  2013       0.0         1\n",
       "4         Belgium  2012      35.0         1\n",
       "...           ...   ...       ...       ...\n",
       "1189477  Viet Nam  2012      92.0        71\n",
       "1189478  Viet Nam  2011      87.0        71\n",
       "1189479  Viet Nam  2010      50.0        71\n",
       "1189480  Viet Nam  2009      10.0        71\n",
       "1189481  Viet Nam  2008       1.0        71\n",
       "\n",
       "[1189482 rows x 4 columns]"
      ]
     },
     "execution_count": 16,
     "metadata": {},
     "output_type": "execute_result"
    }
   ],
   "source": [
    "power"
   ]
  },
  {
   "cell_type": "code",
   "execution_count": 17,
   "id": "82057811",
   "metadata": {},
   "outputs": [
    {
     "data": {
      "text/plain": [
       "array(['Austria', 'Belgium', 'Czechia', 'Finland', 'France', 'Greece',\n",
       "       'Hungary', 'Italy', 'Korea, Republic of', 'Netherlands', 'Romania',\n",
       "       'Serbia', 'Slovakia', 'Ukraine', 'United Kingdom', 'United States',\n",
       "       'Brunei Darussalam', 'Bulgaria', 'Canada', 'Chile', 'Croatia',\n",
       "       'Iran (Islamic Rep. of)', 'Jordan', 'Lithuania', 'Mexico', 'Oman',\n",
       "       'Other Asia', 'Poland', 'Portugal', 'Spain', 'Sweden',\n",
       "       'Switzerland', 'T.F.Yug.Rep. Macedonia', 'Turkey', 'Uzbekistan',\n",
       "       'Argentina', 'Colombia', 'Germany', 'Norway', 'Australia',\n",
       "       'China, Macao SAR', 'Japan', 'Denmark', 'Ireland', 'Philippines',\n",
       "       'Bangladesh', 'Eritrea', 'Ethiopia', 'Lesotho', 'Nepal', 'Niger',\n",
       "       'Pakistan', 'Serbia and Montenegro', 'Tunisia', 'Botswana',\n",
       "       'Georgia', 'Republic of Moldova', 'Peru', 'South Africa',\n",
       "       'Iceland', 'Latvia', 'Luxembourg', 'Cuba', 'Kyrgyzstan',\n",
       "       'Singapore', 'Thailand', 'United Arab Emirates', 'Uruguay',\n",
       "       'Armenia', 'Fiji', \"Korea, Dem.Ppl's.Rep.\", 'Russian Federation',\n",
       "       'Swaziland', 'Zimbabwe', 'Afghanistan', 'Antigua and Barbuda',\n",
       "       'Azerbaijan', 'Bahamas', 'Belize', 'Bolivia (Plur. State of)',\n",
       "       'Brazil', 'Burkina Faso', 'Cameroon', 'Cayman Islands',\n",
       "       'Central African Rep.', 'China', 'Comoros', 'Congo', 'Costa Rica',\n",
       "       \"Côte d'Ivoire\", 'Dem. Rep. of the Congo', 'Dominican Republic',\n",
       "       'Ecuador', 'Egypt', 'El Salvador', 'Estonia',\n",
       "       'Ethiopia, incl. Eritrea', 'Faeroe Islands', 'French Guiana',\n",
       "       'Germany, Fed. R. (former)', 'Greenland', 'Guatemala', 'Guinea',\n",
       "       'Guyana', 'Honduras', 'Indonesia', 'Israel', 'Jamaica', 'Jersey',\n",
       "       'Kazakhstan', 'Kenya', 'Kuwait', \"Lao People's Dem. Rep.\",\n",
       "       'Liberia', 'Libya', 'Malawi', 'Malaysia', 'Maldives', 'Mauritania',\n",
       "       'Mayotte', 'Morocco', 'Myanmar', 'Namibia', 'New Caledonia',\n",
       "       'New Zealand', 'Nicaragua', 'Niue', 'Panama', 'Papua New Guinea',\n",
       "       'Paraguay', 'Sao Tome and Principe', 'Senegal', 'Seychelles',\n",
       "       'Slovenia', 'Solomon Islands', 'Sri Lanka', 'Sudan (former)',\n",
       "       'Suriname', 'Togo', 'Tonga', 'Trinidad and Tobago',\n",
       "       'United Rep. of Tanzania', 'Venezuela (Bolivar. Rep.)',\n",
       "       'Yugoslavia, SFR (former)', 'Zambia', 'Algeria', 'Curaçao',\n",
       "       'Gabon', 'Malta', 'Neth. Antilles (former)', 'Sierra Leone',\n",
       "       'USSR (former)', 'Barbados', 'Benin', 'Chad', 'Djibouti',\n",
       "       'French Polynesia', 'Ghana', 'Grenada', 'Guadeloupe', 'Haiti',\n",
       "       'Iraq', 'Kiribati', 'Madagascar', 'Mali', 'Martinique',\n",
       "       'Pacific Islands (former)', 'Palau', 'St. Helena and Depend.',\n",
       "       'St. Vincent-Grenadines', 'Syrian Arab Republic', 'Uganda',\n",
       "       'Yemen', 'Yemen, Dem. (former)', 'Burundi', 'India', 'Mauritius',\n",
       "       'Mozambique', 'Nigeria', 'Réunion', 'Rwanda', 'Samoa', 'Somalia',\n",
       "       'St. Kitts-Nevis', 'Viet Nam', 'Belarus', 'Cyprus', 'Cabo Verde',\n",
       "       'Albania', 'Bahrain', 'Bosnia and Herzegovina',\n",
       "       'China, Hong Kong SAR', 'Czechoslovakia (former)', 'Angola',\n",
       "       'Bermuda', 'Bhutan', 'Equatorial Guinea', 'Lebanon',\n",
       "       'Saudi Arabia', 'St. Lucia', 'St. Pierre-Miquelon',\n",
       "       'State of Palestine', 'Tajikistan', 'German Dem. R. (former)',\n",
       "       'Anguilla', 'Mongolia', 'Montenegro', 'Cambodia', 'South Sudan',\n",
       "       'Sudan', 'Andorra', 'Aruba', 'Bonaire, St Eustatius, Saba',\n",
       "       'British Virgin Islands', 'Dominica', 'Falkland Is. (Malvinas)',\n",
       "       'Gambia', 'Gibraltar', 'Qatar', 'Sint Maarten (Dutch part)',\n",
       "       'Turkmenistan', 'Turks and Caicos Islands', 'Vanuatu',\n",
       "       'Guinea-Bissau', 'Micronesia (Fed. States of)', 'Timor-Leste',\n",
       "       'Yemen Arab Rep. (former)', 'American Samoa', 'Liechtenstein',\n",
       "       'Puerto Rico', 'Cook Islands', 'Guam', 'Guernsey', 'Isle of Man',\n",
       "       'Marshall Islands', 'Montserrat', 'Nauru',\n",
       "       'Northern Mariana Islands', 'Tuvalu', 'United States Virgin Is.',\n",
       "       'Wallis and Futuna Is.',\n",
       "       'Commonwealth of Independent States (CIS)', 'Antarctic Fisheries'],\n",
       "      dtype=object)"
      ]
     },
     "execution_count": 17,
     "metadata": {},
     "output_type": "execute_result"
    }
   ],
   "source": [
    "power.country.unique()"
   ]
  },
  {
   "cell_type": "code",
   "execution_count": 18,
   "id": "4dd47f99",
   "metadata": {},
   "outputs": [],
   "source": [
    "need = power[(power.quantity >= 0) & \n",
    "      ((power.year >= 2005) & (power.year <= 2010)) & \n",
    "      (power.category.isin([4, 12, 21])) & \n",
    "      ((power.country.str.contains('Latv', case=False)) | \n",
    "       (power.country.str.contains('Lith', case=False)) | \n",
    "       (power.country.str.contains('Esto', case=False)))]"
   ]
  },
  {
   "cell_type": "code",
   "execution_count": 19,
   "id": "ed12abdd",
   "metadata": {},
   "outputs": [
    {
     "data": {
      "text/plain": [
       "array(['Estonia', 'Lithuania', 'Latvia'], dtype=object)"
      ]
     },
     "execution_count": 19,
     "metadata": {},
     "output_type": "execute_result"
    }
   ],
   "source": [
    "need.country.unique()"
   ]
  },
  {
   "cell_type": "code",
   "execution_count": 20,
   "id": "4fee9d6c",
   "metadata": {},
   "outputs": [
    {
     "name": "stdout",
     "output_type": "stream",
     "text": [
      "суммарное потребление - 240580.0\n"
     ]
    }
   ],
   "source": [
    "print(f'суммарное потребление - {need.quantity.sum()}')"
   ]
  },
  {
   "cell_type": "code",
   "execution_count": null,
   "id": "3d7991b6",
   "metadata": {},
   "outputs": [],
   "source": [
    "# Задание № 3"
   ]
  },
  {
   "cell_type": "code",
   "execution_count": 21,
   "id": "703b529e",
   "metadata": {},
   "outputs": [
    {
     "data": {
      "text/html": [
       "<div>\n",
       "<style scoped>\n",
       "    .dataframe tbody tr th:only-of-type {\n",
       "        vertical-align: middle;\n",
       "    }\n",
       "\n",
       "    .dataframe tbody tr th {\n",
       "        vertical-align: top;\n",
       "    }\n",
       "\n",
       "    .dataframe thead th {\n",
       "        text-align: right;\n",
       "    }\n",
       "</style>\n",
       "<table border=\"1\" class=\"dataframe\">\n",
       "  <thead>\n",
       "    <tr style=\"text-align: right;\">\n",
       "      <th></th>\n",
       "      <th>Функция или метод</th>\n",
       "      <th>Назначение</th>\n",
       "    </tr>\n",
       "  </thead>\n",
       "  <tbody>\n",
       "    <tr>\n",
       "      <th>0</th>\n",
       "      <td>S = 'str'; S = \"str\"; S = '''str'''; S = \"\"\"st...</td>\n",
       "      <td>Литералы строк</td>\n",
       "    </tr>\n",
       "    <tr>\n",
       "      <th>1</th>\n",
       "      <td>S = \"s\\np\\ta\\nbbb\"</td>\n",
       "      <td>Экранированные последовательности</td>\n",
       "    </tr>\n",
       "    <tr>\n",
       "      <th>2</th>\n",
       "      <td>S = r\"C:\\temp\\new\"</td>\n",
       "      <td>Неформатированные строки (подавляют экранирова...</td>\n",
       "    </tr>\n",
       "    <tr>\n",
       "      <th>3</th>\n",
       "      <td>S = b\"byte\"</td>\n",
       "      <td>Строка байтов</td>\n",
       "    </tr>\n",
       "    <tr>\n",
       "      <th>4</th>\n",
       "      <td>S1 + S2</td>\n",
       "      <td>Конкатенация (сложение строк)</td>\n",
       "    </tr>\n",
       "    <tr>\n",
       "      <th>5</th>\n",
       "      <td>S1 * 3</td>\n",
       "      <td>Повторение строки</td>\n",
       "    </tr>\n",
       "    <tr>\n",
       "      <th>6</th>\n",
       "      <td>S[i]</td>\n",
       "      <td>Обращение по индексу</td>\n",
       "    </tr>\n",
       "    <tr>\n",
       "      <th>7</th>\n",
       "      <td>S[i:j:step]</td>\n",
       "      <td>Извлечение среза</td>\n",
       "    </tr>\n",
       "    <tr>\n",
       "      <th>8</th>\n",
       "      <td>len(S)</td>\n",
       "      <td>Длина строки</td>\n",
       "    </tr>\n",
       "    <tr>\n",
       "      <th>9</th>\n",
       "      <td>S.find(str, [start],[end])</td>\n",
       "      <td>Поиск подстроки в строке. Возвращает номер пер...</td>\n",
       "    </tr>\n",
       "    <tr>\n",
       "      <th>10</th>\n",
       "      <td>S.rfind(str, [start],[end])</td>\n",
       "      <td>Поиск подстроки в строке. Возвращает номер пос...</td>\n",
       "    </tr>\n",
       "    <tr>\n",
       "      <th>11</th>\n",
       "      <td>S.index(str, [start],[end])</td>\n",
       "      <td>Поиск подстроки в строке. Возвращает номер пер...</td>\n",
       "    </tr>\n",
       "    <tr>\n",
       "      <th>12</th>\n",
       "      <td>S.rindex(str, [start],[end])</td>\n",
       "      <td>Поиск подстроки в строке. Возвращает номер пос...</td>\n",
       "    </tr>\n",
       "    <tr>\n",
       "      <th>13</th>\n",
       "      <td>S.replace(шаблон, замена[, maxcount])</td>\n",
       "      <td>Замена шаблона на замену. maxcount ограничивае...</td>\n",
       "    </tr>\n",
       "    <tr>\n",
       "      <th>14</th>\n",
       "      <td>S.split(символ)</td>\n",
       "      <td>Разбиение строки по разделителю</td>\n",
       "    </tr>\n",
       "    <tr>\n",
       "      <th>15</th>\n",
       "      <td>S.isdigit()</td>\n",
       "      <td>Состоит ли строка из цифр</td>\n",
       "    </tr>\n",
       "    <tr>\n",
       "      <th>16</th>\n",
       "      <td>S.isalpha()</td>\n",
       "      <td>Состоит ли строка из букв</td>\n",
       "    </tr>\n",
       "    <tr>\n",
       "      <th>17</th>\n",
       "      <td>S.isalnum()</td>\n",
       "      <td>Состоит ли строка из цифр или букв</td>\n",
       "    </tr>\n",
       "    <tr>\n",
       "      <th>18</th>\n",
       "      <td>S.islower()</td>\n",
       "      <td>Состоит ли строка из символов в нижнем регистре</td>\n",
       "    </tr>\n",
       "    <tr>\n",
       "      <th>19</th>\n",
       "      <td>S.isupper()</td>\n",
       "      <td>Состоит ли строка из символов в верхнем регистре</td>\n",
       "    </tr>\n",
       "    <tr>\n",
       "      <th>20</th>\n",
       "      <td>S.isspace()</td>\n",
       "      <td>Состоит ли строка из неотображаемых символов (...</td>\n",
       "    </tr>\n",
       "    <tr>\n",
       "      <th>21</th>\n",
       "      <td>S.istitle()</td>\n",
       "      <td>Начинаются ли слова в строке с заглавной буквы</td>\n",
       "    </tr>\n",
       "    <tr>\n",
       "      <th>22</th>\n",
       "      <td>S.upper()</td>\n",
       "      <td>Преобразование строки к верхнему регистру</td>\n",
       "    </tr>\n",
       "    <tr>\n",
       "      <th>23</th>\n",
       "      <td>S.lower()</td>\n",
       "      <td>Преобразование строки к нижнему регистру</td>\n",
       "    </tr>\n",
       "    <tr>\n",
       "      <th>24</th>\n",
       "      <td>S.startswith(str)</td>\n",
       "      <td>Начинается ли строка S с шаблона str</td>\n",
       "    </tr>\n",
       "    <tr>\n",
       "      <th>25</th>\n",
       "      <td>S.endswith(str)</td>\n",
       "      <td>Заканчивается ли строка S шаблоном str</td>\n",
       "    </tr>\n",
       "    <tr>\n",
       "      <th>26</th>\n",
       "      <td>S.join(список)</td>\n",
       "      <td>Сборка строки из списка с разделителем S</td>\n",
       "    </tr>\n",
       "    <tr>\n",
       "      <th>27</th>\n",
       "      <td>ord(символ)</td>\n",
       "      <td>Символ в его код ASCII</td>\n",
       "    </tr>\n",
       "    <tr>\n",
       "      <th>28</th>\n",
       "      <td>chr(число)</td>\n",
       "      <td>Код ASCII в символ</td>\n",
       "    </tr>\n",
       "    <tr>\n",
       "      <th>29</th>\n",
       "      <td>S.capitalize()</td>\n",
       "      <td>Переводит первый символ строки в верхний регис...</td>\n",
       "    </tr>\n",
       "    <tr>\n",
       "      <th>30</th>\n",
       "      <td>S.center(width, [fill])</td>\n",
       "      <td>Возвращает отцентрованную строку, по краям кот...</td>\n",
       "    </tr>\n",
       "    <tr>\n",
       "      <th>31</th>\n",
       "      <td>S.count(str, [start],[end])</td>\n",
       "      <td>Возвращает количество непересекающихся вхожден...</td>\n",
       "    </tr>\n",
       "    <tr>\n",
       "      <th>32</th>\n",
       "      <td>S.expandtabs([tabsize])</td>\n",
       "      <td>Возвращает копию строки, в которой все символы...</td>\n",
       "    </tr>\n",
       "    <tr>\n",
       "      <th>33</th>\n",
       "      <td>S.lstrip([chars])</td>\n",
       "      <td>Удаление пробельных символов в начале строки</td>\n",
       "    </tr>\n",
       "    <tr>\n",
       "      <th>34</th>\n",
       "      <td>S.rstrip([chars])</td>\n",
       "      <td>Удаление пробельных символов в конце строки</td>\n",
       "    </tr>\n",
       "    <tr>\n",
       "      <th>35</th>\n",
       "      <td>S.strip([chars])</td>\n",
       "      <td>Удаление пробельных символов в начале и в конц...</td>\n",
       "    </tr>\n",
       "    <tr>\n",
       "      <th>36</th>\n",
       "      <td>S.partition(шаблон)</td>\n",
       "      <td>Возвращает кортеж, содержащий часть перед перв...</td>\n",
       "    </tr>\n",
       "    <tr>\n",
       "      <th>37</th>\n",
       "      <td>S.rpartition(sep)</td>\n",
       "      <td>Возвращает кортеж, содержащий часть перед посл...</td>\n",
       "    </tr>\n",
       "    <tr>\n",
       "      <th>38</th>\n",
       "      <td>S.swapcase()</td>\n",
       "      <td>Переводит символы нижнего регистра в верхний, ...</td>\n",
       "    </tr>\n",
       "    <tr>\n",
       "      <th>39</th>\n",
       "      <td>S.title()</td>\n",
       "      <td>Первую букву каждого слова переводит в верхний...</td>\n",
       "    </tr>\n",
       "    <tr>\n",
       "      <th>40</th>\n",
       "      <td>S.zfill(width)</td>\n",
       "      <td>Делает длину строки не меньшей width, по необх...</td>\n",
       "    </tr>\n",
       "    <tr>\n",
       "      <th>41</th>\n",
       "      <td>S.ljust(width, fillchar=\" \")</td>\n",
       "      <td>Делает длину строки не меньшей width, по необх...</td>\n",
       "    </tr>\n",
       "    <tr>\n",
       "      <th>42</th>\n",
       "      <td>S.rjust(width, fillchar=\" \")</td>\n",
       "      <td>Делает длину строки не меньшей width, по необх...</td>\n",
       "    </tr>\n",
       "    <tr>\n",
       "      <th>43</th>\n",
       "      <td>S.format(*args, **kwargs)</td>\n",
       "      <td>Форматирование строки</td>\n",
       "    </tr>\n",
       "  </tbody>\n",
       "</table>\n",
       "</div>"
      ],
      "text/plain": [
       "                                    Функция или метод  \\\n",
       "0   S = 'str'; S = \"str\"; S = '''str'''; S = \"\"\"st...   \n",
       "1                                  S = \"s\\np\\ta\\nbbb\"   \n",
       "2                                  S = r\"C:\\temp\\new\"   \n",
       "3                                         S = b\"byte\"   \n",
       "4                                             S1 + S2   \n",
       "5                                              S1 * 3   \n",
       "6                                                S[i]   \n",
       "7                                         S[i:j:step]   \n",
       "8                                              len(S)   \n",
       "9                          S.find(str, [start],[end])   \n",
       "10                        S.rfind(str, [start],[end])   \n",
       "11                        S.index(str, [start],[end])   \n",
       "12                       S.rindex(str, [start],[end])   \n",
       "13              S.replace(шаблон, замена[, maxcount])   \n",
       "14                                    S.split(символ)   \n",
       "15                                        S.isdigit()   \n",
       "16                                        S.isalpha()   \n",
       "17                                        S.isalnum()   \n",
       "18                                        S.islower()   \n",
       "19                                        S.isupper()   \n",
       "20                                        S.isspace()   \n",
       "21                                        S.istitle()   \n",
       "22                                          S.upper()   \n",
       "23                                          S.lower()   \n",
       "24                                  S.startswith(str)   \n",
       "25                                    S.endswith(str)   \n",
       "26                                     S.join(список)   \n",
       "27                                        ord(символ)   \n",
       "28                                         chr(число)   \n",
       "29                                     S.capitalize()   \n",
       "30                            S.center(width, [fill])   \n",
       "31                        S.count(str, [start],[end])   \n",
       "32                            S.expandtabs([tabsize])   \n",
       "33                                  S.lstrip([chars])   \n",
       "34                                  S.rstrip([chars])   \n",
       "35                                   S.strip([chars])   \n",
       "36                                S.partition(шаблон)   \n",
       "37                                  S.rpartition(sep)   \n",
       "38                                       S.swapcase()   \n",
       "39                                          S.title()   \n",
       "40                                     S.zfill(width)   \n",
       "41                       S.ljust(width, fillchar=\" \")   \n",
       "42                       S.rjust(width, fillchar=\" \")   \n",
       "43                          S.format(*args, **kwargs)   \n",
       "\n",
       "                                           Назначение  \n",
       "0                                      Литералы строк  \n",
       "1                   Экранированные последовательности  \n",
       "2   Неформатированные строки (подавляют экранирова...  \n",
       "3                                       Строка байтов  \n",
       "4                       Конкатенация (сложение строк)  \n",
       "5                                   Повторение строки  \n",
       "6                                Обращение по индексу  \n",
       "7                                    Извлечение среза  \n",
       "8                                        Длина строки  \n",
       "9   Поиск подстроки в строке. Возвращает номер пер...  \n",
       "10  Поиск подстроки в строке. Возвращает номер пос...  \n",
       "11  Поиск подстроки в строке. Возвращает номер пер...  \n",
       "12  Поиск подстроки в строке. Возвращает номер пос...  \n",
       "13  Замена шаблона на замену. maxcount ограничивае...  \n",
       "14                    Разбиение строки по разделителю  \n",
       "15                          Состоит ли строка из цифр  \n",
       "16                          Состоит ли строка из букв  \n",
       "17                 Состоит ли строка из цифр или букв  \n",
       "18    Состоит ли строка из символов в нижнем регистре  \n",
       "19   Состоит ли строка из символов в верхнем регистре  \n",
       "20  Состоит ли строка из неотображаемых символов (...  \n",
       "21     Начинаются ли слова в строке с заглавной буквы  \n",
       "22          Преобразование строки к верхнему регистру  \n",
       "23           Преобразование строки к нижнему регистру  \n",
       "24               Начинается ли строка S с шаблона str  \n",
       "25             Заканчивается ли строка S шаблоном str  \n",
       "26           Сборка строки из списка с разделителем S  \n",
       "27                             Символ в его код ASCII  \n",
       "28                                 Код ASCII в символ  \n",
       "29  Переводит первый символ строки в верхний регис...  \n",
       "30  Возвращает отцентрованную строку, по краям кот...  \n",
       "31  Возвращает количество непересекающихся вхожден...  \n",
       "32  Возвращает копию строки, в которой все символы...  \n",
       "33       Удаление пробельных символов в начале строки  \n",
       "34        Удаление пробельных символов в конце строки  \n",
       "35  Удаление пробельных символов в начале и в конц...  \n",
       "36  Возвращает кортеж, содержащий часть перед перв...  \n",
       "37  Возвращает кортеж, содержащий часть перед посл...  \n",
       "38  Переводит символы нижнего регистра в верхний, ...  \n",
       "39  Первую букву каждого слова переводит в верхний...  \n",
       "40  Делает длину строки не меньшей width, по необх...  \n",
       "41  Делает длину строки не меньшей width, по необх...  \n",
       "42  Делает длину строки не меньшей width, по необх...  \n",
       "43                              Форматирование строки  "
      ]
     },
     "execution_count": 21,
     "metadata": {},
     "output_type": "execute_result"
    }
   ],
   "source": [
    "pd.read_html('https://pythonworld.ru/tipy-dannyx-v-python/stroki-funkcii-i-metody-strok.html', \n",
    "             attrs = {'class': \"docutils\"})[0]"
   ]
  },
  {
   "cell_type": "code",
   "execution_count": null,
   "id": "ef61009a",
   "metadata": {},
   "outputs": [],
   "source": [
    "pd.read_html('https://fortrader.org/currencyrates', encoding='utf-8')[0]"
   ]
  },
  {
   "cell_type": "code",
   "execution_count": null,
   "id": "75777fb9",
   "metadata": {},
   "outputs": [],
   "source": []
  },
  {
   "cell_type": "code",
   "execution_count": null,
   "id": "96bd34a8",
   "metadata": {},
   "outputs": [],
   "source": []
  },
  {
   "cell_type": "code",
   "execution_count": null,
   "id": "ebbbf8e1",
   "metadata": {},
   "outputs": [],
   "source": []
  },
  {
   "cell_type": "code",
   "execution_count": null,
   "id": "02a96099",
   "metadata": {},
   "outputs": [],
   "source": []
  }
 ],
 "metadata": {
  "kernelspec": {
   "display_name": "Python 3 (ipykernel)",
   "language": "python",
   "name": "python3"
  },
  "language_info": {
   "codemirror_mode": {
    "name": "ipython",
    "version": 3
   },
   "file_extension": ".py",
   "mimetype": "text/x-python",
   "name": "python",
   "nbconvert_exporter": "python",
   "pygments_lexer": "ipython3",
   "version": "3.11.7"
  }
 },
 "nbformat": 4,
 "nbformat_minor": 5
}
